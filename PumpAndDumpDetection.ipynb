{
  "cells": [
    {
      "cell_type": "markdown",
      "source": [
        "# Crypto Pump and Dump Detection using C-LSTM and Anomaly Transformer"
      ],
      "metadata": {
        "id": "cyZzB5fA4VVr"
      }
    },
    {
      "cell_type": "markdown",
      "source": [
        "## Part - 1: Initial Configurations"
      ],
      "metadata": {
        "id": "lMkUVkwe4g5d"
      }
    },
    {
      "cell_type": "markdown",
      "source": [
        "First, lets create appropriate folders to store/load models/data."
      ],
      "metadata": {
        "id": "oHhYfcCf47rt"
      }
    },
    {
      "cell_type": "code",
      "execution_count": 1,
      "metadata": {
        "colab": {
          "base_uri": "https://localhost:8080/"
        },
        "id": "wzu4m2k2KkJB",
        "outputId": "a5bd95a9-75c3-45c4-8118-0e61610171b5"
      },
      "outputs": [
        {
          "output_type": "stream",
          "name": "stdout",
          "text": [
            "The folder '/content/data' has been created successfully.\n",
            "The folder '/content/models' has been created successfully.\n"
          ]
        }
      ],
      "source": [
        "import os\n",
        "\n",
        "folder_names = ['/content/data', '/content/models']\n",
        "\n",
        "for folder in folder_names:\n",
        "\n",
        "    os.makedirs(folder, exist_ok=True)\n",
        "\n",
        "    if os.path.exists(folder):\n",
        "        print(f\"The folder '{folder}' has been created successfully.\")\n",
        "\n",
        "    else:\n",
        "        print(f\"Folder already exists! '{folder}'.\")"
      ]
    },
    {
      "cell_type": "markdown",
      "source": [
        "Lets import the necessary packages"
      ],
      "metadata": {
        "id": "ueE5uxqw5K_E"
      }
    },
    {
      "cell_type": "code",
      "execution_count": 3,
      "metadata": {
        "id": "JSt3mXUA452R"
      },
      "outputs": [],
      "source": [
        "import sys\n",
        "import json\n",
        "import time\n",
        "import torch\n",
        "import torch.nn.functional as F\n",
        "import numpy as np\n",
        "import random\n",
        "import argparse\n",
        "\n",
        "from sklearn.metrics import accuracy_score, f1_score, precision_score, recall_score, precision_recall_curve\n",
        "from sklearn.model_selection import KFold\n",
        "from data.data import create_loader, create_loaders, get_data\n",
        "from models.conv_lstm import ConvLSTM\n",
        "from models.anomaly_transformer import AnomalyTransformer\n",
        "from models.utils import count_parameters"
      ]
    },
    {
      "cell_type": "markdown",
      "source": [
        "Lets define the path where the three datasets are present."
      ],
      "metadata": {
        "id": "IxS2pULB5VC-"
      }
    },
    {
      "cell_type": "code",
      "execution_count": 4,
      "metadata": {
        "id": "F3-VzIdq45ru"
      },
      "outputs": [],
      "source": [
        "data_path1 = \"/content/data/features_5S.csv.gz\"\n",
        "data_path2 = \"/content/data/features_15S.csv.gz\"\n",
        "data_path3 = \"/content/data/features_25S.csv.gz\""
      ]
    },
    {
      "cell_type": "markdown",
      "source": [
        "Lets define the device, we'll use for training."
      ],
      "metadata": {
        "id": "2ODrdxKa5yHR"
      }
    },
    {
      "cell_type": "code",
      "execution_count": 5,
      "metadata": {
        "id": "BRc_QJ4f45mu"
      },
      "outputs": [],
      "source": [
        "device = torch.device('cuda' if torch.cuda.is_available() else 'cpu')"
      ]
    },
    {
      "cell_type": "markdown",
      "source": [
        "Now, lets define a hyperparameter configuration class for initializing different hyperparameters."
      ],
      "metadata": {
        "id": "-fnWw7xU55RH"
      }
    },
    {
      "cell_type": "code",
      "execution_count": 27,
      "metadata": {
        "id": "mZicmTnN45xG"
      },
      "outputs": [],
      "source": [
        "class Config:\n",
        "\n",
        "    def __init__(self, model, dataset, hyperparams):\n",
        "\n",
        "      self.model = model\n",
        "      self.dataset = dataset\n",
        "\n",
        "      self.embedding_size = hyperparams['embedding_size']\n",
        "      self.n_layers = hyperparams['n_layers']\n",
        "      self.n_epochs =  hyperparams['n_epochs']\n",
        "      self.kernel_size =  hyperparams['kernel_size']\n",
        "      self.dropout =  hyperparams['dropout']\n",
        "\n",
        "      self.feature_size =  hyperparams['feature_size']\n",
        "      self.lambda_ =  hyperparams['lambda_']\n",
        "\n",
        "      self.lr =  hyperparams['lr']\n",
        "      self.weight_decay =  hyperparams['weight_decay']\n",
        "      self.batch_size =  hyperparams['batch_size']\n",
        "      self.train_ratio =  hyperparams['train_ratio']\n",
        "      self.undersample_ratio =  hyperparams['undersample_ratio']\n",
        "      self.segment_length =  hyperparams['segment_length']\n",
        "\n",
        "      self.prthreshold =  hyperparams['prthreshold']\n",
        "      self.kfolds =  hyperparams['kfolds']\n",
        "\n",
        "      self.save =  hyperparams['save']\n",
        "      self.validate_every_n =  hyperparams['validate_every_n']\n",
        "      self.train_output_every_n =  hyperparams['train_output_every_n']\n",
        "      self.time_epochs =  hyperparams['time_epochs']\n",
        "      self.final_run =  hyperparams['final_run']\n",
        "      self.verbose =  hyperparams['verbose']\n",
        "      self.seed =  hyperparams['seed']\n",
        "      self.run_count =  hyperparams['run_count']\n",
        "      self.n_feats =  hyperparams['n_feats']"
      ]
    },
    {
      "cell_type": "markdown",
      "source": [
        "Now, lets define the function to create the C-LSTM model."
      ],
      "metadata": {
        "id": "klYaRYzf6a4b"
      }
    },
    {
      "cell_type": "code",
      "execution_count": 7,
      "metadata": {
        "id": "9L0GI7BsOoPm"
      },
      "outputs": [],
      "source": [
        "def create_conv_model(config):\n",
        "\n",
        "    return ConvLSTM(config.n_feats, config.kernel_size, config.embedding_size,\n",
        "                    config.n_layers, dropout=config.dropout).to(device)"
      ]
    },
    {
      "cell_type": "markdown",
      "source": [
        "Now, lets define the function to create the Anomaly Transformer model."
      ],
      "metadata": {
        "id": "oJfc5xcj6jZi"
      }
    },
    {
      "cell_type": "code",
      "execution_count": 8,
      "metadata": {
        "id": "9qhwdVPxO4oS"
      },
      "outputs": [],
      "source": [
        "def create_transformer(config):\n",
        "\n",
        "    if config.model == \"AnomalyTransformer\":\n",
        "\n",
        "        return AnomalyTransformer(config.segment_length,\n",
        "                                  config.feature_size, config.n_layers,\n",
        "                                  config.lambda_, device).to(device)"
      ]
    },
    {
      "cell_type": "markdown",
      "source": [
        "Now, lets define the train function for one epoch."
      ],
      "metadata": {
        "id": "y0ksd2Yb6-pB"
      }
    },
    {
      "cell_type": "code",
      "execution_count": 9,
      "metadata": {
        "id": "wSJPyGLo9zTI"
      },
      "outputs": [],
      "source": [
        "def train(model, dataloader, opt, criterion, device, feature_count = 13):\n",
        "\n",
        "    epoch_loss = 0\n",
        "\n",
        "    for batch in dataloader:\n",
        "\n",
        "        opt.zero_grad()\n",
        "        x = batch[:, :, :feature_count].to(device)\n",
        "        y = batch[:, :, -1].to(device)\n",
        "\n",
        "        preds = model(x)\n",
        "        loss = criterion(preds, y)\n",
        "\n",
        "        loss.backward()\n",
        "        opt.step()\n",
        "\n",
        "        epoch_loss += loss.item()\n",
        "\n",
        "    return epoch_loss / len(dataloader)"
      ]
    },
    {
      "cell_type": "markdown",
      "source": [
        "Now, lets define a function to find out the best precision-recall threshold."
      ],
      "metadata": {
        "id": "-aYLXRIL7M0d"
      }
    },
    {
      "cell_type": "code",
      "execution_count": 10,
      "metadata": {
        "id": "cPpSSKzqMHlm"
      },
      "outputs": [],
      "source": [
        "def pick_threshold(model, dataloader, undersample_ratio, device, verbose=True,\n",
        "                   feature_count=13):\n",
        "\n",
        "    all_ys = []\n",
        "    all_preds = []\n",
        "\n",
        "    for batch in dataloader:\n",
        "        with torch.no_grad():\n",
        "\n",
        "            x = batch[:, :, :feature_count].to(device)\n",
        "            y = batch[:, -1, -1].to(device)\n",
        "\n",
        "            preds = model(x)[:, -1]\n",
        "            y, preds = y.cpu().flatten(), preds.cpu().flatten()\n",
        "\n",
        "            all_ys.append(y)\n",
        "            all_preds.append(preds)\n",
        "\n",
        "    y = torch.cat(all_ys, dim=0).cpu()\n",
        "    preds = torch.cat(all_preds, dim=0).cpu()\n",
        "    y = y.numpy()\n",
        "    preds = preds.numpy()\n",
        "\n",
        "    _, _, thresholds = precision_recall_curve(y, preds)\n",
        "\n",
        "    best_f1 = 0\n",
        "    best_threshold = 0\n",
        "\n",
        "    for threshold in thresholds:\n",
        "\n",
        "        true_pos = np.sum(preds[y == 1] >= threshold)\n",
        "        false_pos = np.sum(preds[y == 0] >= threshold)\n",
        "        false_neg = np.sum(preds[y == 1] < threshold)\n",
        "        true_neg = np.sum(preds[y == 0] < threshold)\n",
        "\n",
        "        false_pos /= undersample_ratio\n",
        "        true_neg /= undersample_ratio\n",
        "\n",
        "        precision = true_pos / (true_pos + false_pos)\n",
        "        recall = true_pos / (true_pos + false_neg)\n",
        "        f1 = 2 * precision * recall / (precision + recall)\n",
        "\n",
        "        if f1 > best_f1:\n",
        "\n",
        "            best_f1 = f1\n",
        "            best_threshold = threshold\n",
        "\n",
        "    if verbose:\n",
        "        print(f'Best threshold: {best_threshold} (train f1: {best_f1})')\n",
        "\n",
        "    return best_threshold"
      ]
    },
    {
      "cell_type": "markdown",
      "source": [
        "Now, lets define the validation function."
      ],
      "metadata": {
        "id": "AHvd0ocA7hcp"
      }
    },
    {
      "cell_type": "code",
      "execution_count": 11,
      "metadata": {
        "id": "MuZP6ACZNL59"
      },
      "outputs": [],
      "source": [
        "def validate(model, dataloader, device, verbose=True, pr_threshold=0.7,\n",
        "             criterion=None, feature_count=13):\n",
        "\n",
        "    preds_1 = []\n",
        "    preds_0 = []\n",
        "    all_ys = []\n",
        "    all_preds = []\n",
        "\n",
        "    epoch_loss = 0\n",
        "\n",
        "    for batch in dataloader:\n",
        "        with torch.no_grad():\n",
        "\n",
        "            x = batch[:, :, :feature_count].to(device)\n",
        "            y = batch[:, -1, -1].to(device)\n",
        "\n",
        "            preds = model(x)[:, -1]\n",
        "            y, preds = y.cpu().flatten(), preds.cpu().flatten()\n",
        "\n",
        "            if verbose:\n",
        "\n",
        "                preds_0.extend(preds[y == 0])\n",
        "                preds_1.extend(preds[y == 1])\n",
        "\n",
        "            all_ys.append(y)\n",
        "            all_preds.append(preds)\n",
        "\n",
        "            if criterion is not None:\n",
        "\n",
        "                loss = criterion(preds, y)\n",
        "                epoch_loss += loss.item()\n",
        "\n",
        "    if verbose:\n",
        "        print(f'Mean output at 0: {(sum(preds_0) / len(preds_0)).item():0.5f} at 1: {(sum(preds_1) / len(preds_1)).item():0.5f}')\n",
        "\n",
        "    y = torch.cat(all_ys, dim=0).cpu()\n",
        "    preds = torch.cat(all_preds, dim=0).cpu()\n",
        "    preds = preds >= pr_threshold\n",
        "\n",
        "    acc = accuracy_score(y, preds)\n",
        "    precision = precision_score(y, preds, zero_division=0)\n",
        "    recall = recall_score(y, preds, zero_division=0)\n",
        "    f1 = f1_score(y, preds, zero_division=0)\n",
        "\n",
        "    if criterion is not None:\n",
        "        return acc, precision, recall, f1, epoch_loss/len(dataloader)\n",
        "\n",
        "    else:\n",
        "        return acc, precision, recall, f1"
      ]
    },
    {
      "cell_type": "markdown",
      "source": [
        "Now, lets define a method to train the model and collect metrics for all the epochs."
      ],
      "metadata": {
        "id": "JNxm0Fya77BY"
      }
    },
    {
      "cell_type": "code",
      "execution_count": 26,
      "metadata": {
        "id": "83COHqUz45ht"
      },
      "outputs": [],
      "source": [
        "def collect_metrics_n_epochs(model, *, train_loader, test_loader, optimizer,\n",
        "                             criterion, device, config, feature_count=13):\n",
        "\n",
        "    best_metrics = np.array([0.0]*4)\n",
        "\n",
        "    for epoch in range(config.n_epochs):\n",
        "\n",
        "        start = time.time()\n",
        "        loss = train(model, train_loader, optimizer, criterion, device,\n",
        "                     feature_count)\n",
        "\n",
        "        if (epoch + 1) % config.train_output_every_n == 0:\n",
        "            print(f'Epoch {epoch + 1}{f\" ({(time.time()-start):0.2f}s)\" if config.time_epochs else \"\"} -- Train Loss: {loss:0.5f}')\n",
        "\n",
        "        if (epoch + 1) % config.validate_every_n == 0 or config.final_run:\n",
        "\n",
        "            if config.prthreshold > 0:\n",
        "                prthreshold = config.prthreshold\n",
        "\n",
        "            else:\n",
        "\n",
        "                prthreshold = pick_threshold(model, train_loader,\n",
        "                                             config.undersample_ratio, device,\n",
        "                                             verbose=config.verbose,\n",
        "                                             feature_count=feature_count)\n",
        "\n",
        "            acc, precision, recall, f1 = validate(model, test_loader, device,\n",
        "                                                  verbose=config.verbose,\n",
        "                                                  pr_threshold=prthreshold,\n",
        "                                                  feature_count=feature_count)\n",
        "\n",
        "            if f1 > best_metrics[-1]:\n",
        "                best_metrics = [acc, precision, recall, f1]\n",
        "\n",
        "            print(f'Val   -- Acc: {acc:0.5f} -- Precision: {precision:0.5f} -- Recall: {recall:0.5f} -- F1: {f1:0.5f}')\n",
        "\n",
        "    return best_metrics"
      ]
    },
    {
      "cell_type": "markdown",
      "source": [
        "## Part - 2: C-LSTM (5 second Dataset)"
      ],
      "metadata": {
        "id": "QXz89ST_821J"
      }
    },
    {
      "cell_type": "markdown",
      "source": [
        "Now, lets see how well we do on the 5 second Dataset with our C-LSTM model."
      ],
      "metadata": {
        "id": "4IIhiiNTgMfC"
      }
    },
    {
      "cell_type": "markdown",
      "source": [
        "First, lets define the required hyperparameters."
      ],
      "metadata": {
        "id": "lw4N7Te0gWqn"
      }
    },
    {
      "cell_type": "code",
      "execution_count": 28,
      "metadata": {
        "id": "Fpl1_Y9drVOm"
      },
      "outputs": [],
      "source": [
        "hyperparams = {'embedding_size' : 350, 'n_layers' : 1, 'n_epochs' : 200,\n",
        "               'kernel_size' : 3, 'dropout' : 0.0, 'feature_size' : 13,\n",
        "               'lambda_' : 0.0001, 'lr' : 1e-3, 'weight_decay' : 0.0,\n",
        "               'batch_size' : 1200, 'train_ratio' : 0.8,\n",
        "               'undersample_ratio' : 0.05, 'segment_length' : 15,\n",
        "               'prthreshold' : 0.5, 'kfolds' : 1, 'save' : True,\n",
        "               'validate_every_n' : 10, 'train_output_every_n' : 5,\n",
        "               'time_epochs' : True, 'final_run' : True, 'verbose' : False,\n",
        "               'seed' : 42, 'run_count' : 1, 'n_feats' : 0}"
      ]
    },
    {
      "cell_type": "markdown",
      "source": [
        "Lets set those hyperparamters in the Config class."
      ],
      "metadata": {
        "id": "BN2LYX9hghd6"
      }
    },
    {
      "cell_type": "code",
      "execution_count": 29,
      "metadata": {
        "id": "Ftg3bbfH45ce"
      },
      "outputs": [],
      "source": [
        "config = Config(\"CLSTM\", data_path1, hyperparams)\n",
        "\n",
        "# reproducability\n",
        "\n",
        "torch.manual_seed(config.seed)\n",
        "random.seed(config.seed)\n",
        "np.random.seed(config.seed)\n",
        "g = torch.Generator()\n",
        "g.manual_seed(config.seed)\n",
        "os.environ['UJJWALS_WORKSPACE_CONFIG'] = ':4096:2'"
      ]
    },
    {
      "cell_type": "markdown",
      "source": [
        "Lets get the data now."
      ],
      "metadata": {
        "id": "sRbyE4--gpHs"
      }
    },
    {
      "cell_type": "code",
      "execution_count": 30,
      "metadata": {
        "colab": {
          "base_uri": "https://localhost:8080/"
        },
        "id": "WXQB2-qu45XZ",
        "outputId": "82b044ab-4fc1-4268-bfcb-907acb5d35af"
      },
      "outputs": [
        {
          "output_type": "stream",
          "name": "stdout",
          "text": [
            "Processing data...\n",
            "Segment length: 15\n",
            "Remove post anomaly data: False\n",
            "Data shape: (821307, 16)\n",
            "Pump 48 has 5 rows, skipping\n",
            "Pump 149 has 5 rows, skipping\n",
            "Pump 156 has 4 rows, skipping\n",
            "Pump 180 has 1 rows, skipping\n",
            "Pump 224 has 1 rows, skipping\n",
            "Pump 264 has 2 rows, skipping\n",
            "Pump 300 has 1 rows, skipping\n",
            "Pump 327 has 1 rows, skipping\n",
            "Pump 330 has 7 rows, skipping\n",
            "Pump 331 has 5 rows, skipping\n",
            "Skipped 32 rows total\n",
            "317 pumps\n",
            "821275 rows of data after processing\n"
          ]
        }
      ],
      "source": [
        "data = get_data(config.dataset, batch_size=config.batch_size,\n",
        "                train_ratio=config.train_ratio,\n",
        "                undersample_ratio=config.undersample_ratio,\n",
        "                segment_length=config.segment_length, save=config.save)\n",
        "\n",
        "# -1 since last column is the target value\n",
        "config.n_feats = data.shape[-1] - 1 if config.feature_size == -1 else config.feature_size"
      ]
    },
    {
      "cell_type": "markdown",
      "source": [
        "Lets create the model and set the loss function now."
      ],
      "metadata": {
        "id": "uEzrs378gwg-"
      }
    },
    {
      "cell_type": "code",
      "execution_count": 31,
      "metadata": {
        "id": "F7o-gqBG45Sd"
      },
      "outputs": [],
      "source": [
        "criterion = torch.nn.BCELoss().to(device)\n",
        "\n",
        "if config.model == \"CLSTM\":\n",
        "    models = [create_conv_model] * config.run_count\n",
        "\n",
        "else:\n",
        "\n",
        "    criterion = torch.nn.MSELoss().to(device)\n",
        "    models = [create_transformer] * config.run_count\n",
        "\n",
        "for model_index, model_creator in enumerate(models):\n",
        "\n",
        "    if len(models) > 1:\n",
        "        print(f'Running model {model_index + 1} of {len(models)}')"
      ]
    },
    {
      "cell_type": "markdown",
      "source": [
        "Now, lets start the training process."
      ],
      "metadata": {
        "id": "wgZX69LKjXol"
      }
    },
    {
      "cell_type": "code",
      "execution_count": 19,
      "metadata": {
        "colab": {
          "base_uri": "https://localhost:8080/"
        },
        "id": "FBZHTq9_45NO",
        "outputId": "d189ff38-6b8a-4430-89ba-65f7618e63dc"
      },
      "outputs": [
        {
          "output_type": "stream",
          "name": "stdout",
          "text": [
            "Model <class 'models.conv_lstm.ConvLSTM'> using 997851 parameters:\n",
            "Train data shape: (657020, 15, 14)\n",
            "Train data shape after undersampling: (36215, 15, 14)\n",
            "Test data shape: (164255, 15, 14)\n",
            "60.0 segments in test data ending in anomaly\n",
            "Val   -- Acc: 0.99963 -- Precision: 0.00000 -- Recall: 0.00000 -- F1: 0.00000\n",
            "Val   -- Acc: 0.99963 -- Precision: 0.00000 -- Recall: 0.00000 -- F1: 0.00000\n",
            "Val   -- Acc: 0.99963 -- Precision: 0.00000 -- Recall: 0.00000 -- F1: 0.00000\n",
            "Val   -- Acc: 0.99970 -- Precision: 0.91667 -- Recall: 0.18333 -- F1: 0.30556\n",
            "Epoch 5 (0.73s) -- Train Loss: 0.02007\n",
            "Val   -- Acc: 0.99970 -- Precision: 0.78947 -- Recall: 0.25000 -- F1: 0.37975\n",
            "Val   -- Acc: 0.99973 -- Precision: 0.75862 -- Recall: 0.36667 -- F1: 0.49438\n",
            "Val   -- Acc: 0.99973 -- Precision: 0.70270 -- Recall: 0.43333 -- F1: 0.53608\n",
            "Val   -- Acc: 0.99975 -- Precision: 0.72093 -- Recall: 0.51667 -- F1: 0.60194\n",
            "Val   -- Acc: 0.99975 -- Precision: 0.71111 -- Recall: 0.53333 -- F1: 0.60952\n",
            "Epoch 10 (0.57s) -- Train Loss: 0.01009\n",
            "Val   -- Acc: 0.99976 -- Precision: 0.71739 -- Recall: 0.55000 -- F1: 0.62264\n",
            "Val   -- Acc: 0.99977 -- Precision: 0.72917 -- Recall: 0.58333 -- F1: 0.64815\n",
            "Val   -- Acc: 0.99978 -- Precision: 0.76087 -- Recall: 0.58333 -- F1: 0.66038\n",
            "Val   -- Acc: 0.99977 -- Precision: 0.74468 -- Recall: 0.58333 -- F1: 0.65421\n",
            "Val   -- Acc: 0.99978 -- Precision: 0.75000 -- Recall: 0.60000 -- F1: 0.66667\n",
            "Epoch 15 (0.56s) -- Train Loss: 0.00789\n",
            "Val   -- Acc: 0.99979 -- Precision: 0.76596 -- Recall: 0.60000 -- F1: 0.67290\n",
            "Val   -- Acc: 0.99979 -- Precision: 0.75510 -- Recall: 0.61667 -- F1: 0.67890\n",
            "Val   -- Acc: 0.99980 -- Precision: 0.78723 -- Recall: 0.61667 -- F1: 0.69159\n",
            "Val   -- Acc: 0.99978 -- Precision: 0.73077 -- Recall: 0.63333 -- F1: 0.67857\n",
            "Val   -- Acc: 0.99979 -- Precision: 0.75510 -- Recall: 0.61667 -- F1: 0.67890\n",
            "Epoch 20 (0.57s) -- Train Loss: 0.00648\n",
            "Val   -- Acc: 0.99979 -- Precision: 0.75510 -- Recall: 0.61667 -- F1: 0.67890\n",
            "Val   -- Acc: 0.99978 -- Precision: 0.75000 -- Recall: 0.60000 -- F1: 0.66667\n",
            "Val   -- Acc: 0.99978 -- Precision: 0.73077 -- Recall: 0.63333 -- F1: 0.67857\n",
            "Val   -- Acc: 0.99979 -- Precision: 0.77083 -- Recall: 0.61667 -- F1: 0.68519\n",
            "Val   -- Acc: 0.99979 -- Precision: 0.77083 -- Recall: 0.61667 -- F1: 0.68519\n",
            "Epoch 25 (0.57s) -- Train Loss: 0.00527\n",
            "Val   -- Acc: 0.99981 -- Precision: 0.79167 -- Recall: 0.63333 -- F1: 0.70370\n",
            "Val   -- Acc: 0.99981 -- Precision: 0.78000 -- Recall: 0.65000 -- F1: 0.70909\n",
            "Val   -- Acc: 0.99982 -- Precision: 0.80392 -- Recall: 0.68333 -- F1: 0.73874\n",
            "Val   -- Acc: 0.99982 -- Precision: 0.81250 -- Recall: 0.65000 -- F1: 0.72222\n",
            "Val   -- Acc: 0.99984 -- Precision: 0.85106 -- Recall: 0.66667 -- F1: 0.74766\n",
            "Epoch 30 (0.57s) -- Train Loss: 0.00417\n",
            "Val   -- Acc: 0.99984 -- Precision: 0.88636 -- Recall: 0.65000 -- F1: 0.75000\n",
            "Val   -- Acc: 0.99985 -- Precision: 0.90909 -- Recall: 0.66667 -- F1: 0.76923\n",
            "Val   -- Acc: 0.99985 -- Precision: 0.85714 -- Recall: 0.70000 -- F1: 0.77064\n",
            "Val   -- Acc: 0.99986 -- Precision: 0.91111 -- Recall: 0.68333 -- F1: 0.78095\n",
            "Val   -- Acc: 0.99986 -- Precision: 0.89362 -- Recall: 0.70000 -- F1: 0.78505\n",
            "Epoch 35 (0.57s) -- Train Loss: 0.00320\n",
            "Val   -- Acc: 0.99987 -- Precision: 0.88235 -- Recall: 0.75000 -- F1: 0.81081\n",
            "Val   -- Acc: 0.99989 -- Precision: 0.93750 -- Recall: 0.75000 -- F1: 0.83333\n",
            "Val   -- Acc: 0.99985 -- Precision: 0.92857 -- Recall: 0.65000 -- F1: 0.76471\n",
            "Val   -- Acc: 0.99987 -- Precision: 0.93182 -- Recall: 0.68333 -- F1: 0.78846\n",
            "Val   -- Acc: 0.99985 -- Precision: 0.90909 -- Recall: 0.66667 -- F1: 0.76923\n",
            "Epoch 40 (0.57s) -- Train Loss: 0.00266\n",
            "Val   -- Acc: 0.99986 -- Precision: 0.86275 -- Recall: 0.73333 -- F1: 0.79279\n",
            "Val   -- Acc: 0.99984 -- Precision: 0.86957 -- Recall: 0.66667 -- F1: 0.75472\n",
            "Val   -- Acc: 0.99987 -- Precision: 0.91304 -- Recall: 0.70000 -- F1: 0.79245\n",
            "Val   -- Acc: 0.99987 -- Precision: 0.89583 -- Recall: 0.71667 -- F1: 0.79630\n",
            "Val   -- Acc: 0.99987 -- Precision: 0.86792 -- Recall: 0.76667 -- F1: 0.81416\n",
            "Epoch 45 (0.58s) -- Train Loss: 0.00214\n",
            "Val   -- Acc: 0.99984 -- Precision: 0.80357 -- Recall: 0.75000 -- F1: 0.77586\n",
            "Val   -- Acc: 0.99984 -- Precision: 0.83673 -- Recall: 0.68333 -- F1: 0.75229\n",
            "Val   -- Acc: 0.99985 -- Precision: 0.90909 -- Recall: 0.66667 -- F1: 0.76923\n",
            "Val   -- Acc: 0.99987 -- Precision: 0.89796 -- Recall: 0.73333 -- F1: 0.80734\n",
            "Val   -- Acc: 0.99985 -- Precision: 0.86000 -- Recall: 0.71667 -- F1: 0.78182\n",
            "Epoch 50 (0.57s) -- Train Loss: 0.00175\n",
            "Val   -- Acc: 0.99984 -- Precision: 0.81481 -- Recall: 0.73333 -- F1: 0.77193\n",
            "Val   -- Acc: 0.99985 -- Precision: 0.86000 -- Recall: 0.71667 -- F1: 0.78182\n",
            "Val   -- Acc: 0.99985 -- Precision: 0.84615 -- Recall: 0.73333 -- F1: 0.78571\n",
            "Val   -- Acc: 0.99984 -- Precision: 0.82692 -- Recall: 0.71667 -- F1: 0.76786\n",
            "Val   -- Acc: 0.99986 -- Precision: 0.84906 -- Recall: 0.75000 -- F1: 0.79646\n",
            "Epoch 55 (0.57s) -- Train Loss: 0.00150\n",
            "Val   -- Acc: 0.99986 -- Precision: 0.86275 -- Recall: 0.73333 -- F1: 0.79279\n",
            "Val   -- Acc: 0.99985 -- Precision: 0.88889 -- Recall: 0.66667 -- F1: 0.76190\n",
            "Val   -- Acc: 0.99985 -- Precision: 0.77778 -- Recall: 0.81667 -- F1: 0.79675\n",
            "Val   -- Acc: 0.99987 -- Precision: 0.85185 -- Recall: 0.76667 -- F1: 0.80702\n",
            "Val   -- Acc: 0.99984 -- Precision: 0.80357 -- Recall: 0.75000 -- F1: 0.77586\n",
            "Epoch 60 (0.57s) -- Train Loss: 0.00144\n",
            "Val   -- Acc: 0.99984 -- Precision: 0.85417 -- Recall: 0.68333 -- F1: 0.75926\n",
            "Val   -- Acc: 0.99987 -- Precision: 0.85455 -- Recall: 0.78333 -- F1: 0.81739\n",
            "Val   -- Acc: 0.99985 -- Precision: 0.86000 -- Recall: 0.71667 -- F1: 0.78182\n",
            "Val   -- Acc: 0.99986 -- Precision: 0.84906 -- Recall: 0.75000 -- F1: 0.79646\n",
            "Val   -- Acc: 0.99984 -- Precision: 0.85417 -- Recall: 0.68333 -- F1: 0.75926\n",
            "Epoch 65 (0.57s) -- Train Loss: 0.00119\n",
            "Val   -- Acc: 0.99984 -- Precision: 0.84000 -- Recall: 0.70000 -- F1: 0.76364\n",
            "Val   -- Acc: 0.99985 -- Precision: 0.84615 -- Recall: 0.73333 -- F1: 0.78571\n",
            "Val   -- Acc: 0.99985 -- Precision: 0.83019 -- Recall: 0.73333 -- F1: 0.77876\n",
            "Val   -- Acc: 0.99984 -- Precision: 0.82692 -- Recall: 0.71667 -- F1: 0.76786\n",
            "Val   -- Acc: 0.99984 -- Precision: 0.85417 -- Recall: 0.68333 -- F1: 0.75926\n",
            "Epoch 70 (0.57s) -- Train Loss: 0.00104\n",
            "Val   -- Acc: 0.99985 -- Precision: 0.88889 -- Recall: 0.66667 -- F1: 0.76190\n",
            "Val   -- Acc: 0.99984 -- Precision: 0.85417 -- Recall: 0.68333 -- F1: 0.75926\n",
            "Val   -- Acc: 0.99984 -- Precision: 0.81132 -- Recall: 0.71667 -- F1: 0.76106\n",
            "Val   -- Acc: 0.99981 -- Precision: 0.74576 -- Recall: 0.73333 -- F1: 0.73950\n",
            "Val   -- Acc: 0.99983 -- Precision: 0.79630 -- Recall: 0.71667 -- F1: 0.75439\n",
            "Epoch 75 (0.56s) -- Train Loss: 0.00097\n",
            "Val   -- Acc: 0.99986 -- Precision: 0.83636 -- Recall: 0.76667 -- F1: 0.80000\n",
            "Val   -- Acc: 0.99986 -- Precision: 0.82456 -- Recall: 0.78333 -- F1: 0.80342\n",
            "Val   -- Acc: 0.99987 -- Precision: 0.89796 -- Recall: 0.73333 -- F1: 0.80734\n",
            "Val   -- Acc: 0.99986 -- Precision: 0.83636 -- Recall: 0.76667 -- F1: 0.80000\n",
            "Val   -- Acc: 0.99986 -- Precision: 0.82456 -- Recall: 0.78333 -- F1: 0.80342\n",
            "Epoch 80 (0.57s) -- Train Loss: 0.00096\n",
            "Val   -- Acc: 0.99985 -- Precision: 0.84314 -- Recall: 0.71667 -- F1: 0.77477\n",
            "Val   -- Acc: 0.99985 -- Precision: 0.80702 -- Recall: 0.76667 -- F1: 0.78632\n",
            "Val   -- Acc: 0.99984 -- Precision: 0.84000 -- Recall: 0.70000 -- F1: 0.76364\n",
            "Val   -- Acc: 0.99986 -- Precision: 0.84906 -- Recall: 0.75000 -- F1: 0.79646\n",
            "Val   -- Acc: 0.99985 -- Precision: 0.88889 -- Recall: 0.66667 -- F1: 0.76190\n",
            "Epoch 85 (0.57s) -- Train Loss: 0.00092\n",
            "Val   -- Acc: 0.99984 -- Precision: 0.84000 -- Recall: 0.70000 -- F1: 0.76364\n",
            "Val   -- Acc: 0.99977 -- Precision: 0.67692 -- Recall: 0.73333 -- F1: 0.70400\n",
            "Val   -- Acc: 0.99985 -- Precision: 0.84314 -- Recall: 0.71667 -- F1: 0.77477\n",
            "Val   -- Acc: 0.99982 -- Precision: 0.80392 -- Recall: 0.68333 -- F1: 0.73874\n",
            "Val   -- Acc: 0.99984 -- Precision: 0.86957 -- Recall: 0.66667 -- F1: 0.75472\n",
            "Epoch 90 (0.60s) -- Train Loss: 0.00082\n",
            "Val   -- Acc: 0.99984 -- Precision: 0.81481 -- Recall: 0.73333 -- F1: 0.77193\n",
            "Val   -- Acc: 0.99987 -- Precision: 0.89583 -- Recall: 0.71667 -- F1: 0.79630\n",
            "Val   -- Acc: 0.99984 -- Precision: 0.78947 -- Recall: 0.75000 -- F1: 0.76923\n",
            "Val   -- Acc: 0.99982 -- Precision: 0.73846 -- Recall: 0.80000 -- F1: 0.76800\n",
            "Val   -- Acc: 0.99985 -- Precision: 0.90698 -- Recall: 0.65000 -- F1: 0.75728\n",
            "Epoch 95 (0.60s) -- Train Loss: 0.00080\n",
            "Val   -- Acc: 0.99987 -- Precision: 0.86538 -- Recall: 0.75000 -- F1: 0.80357\n",
            "Val   -- Acc: 0.99984 -- Precision: 0.82692 -- Recall: 0.71667 -- F1: 0.76786\n",
            "Val   -- Acc: 0.99987 -- Precision: 0.86538 -- Recall: 0.75000 -- F1: 0.80357\n",
            "Val   -- Acc: 0.99986 -- Precision: 0.91111 -- Recall: 0.68333 -- F1: 0.78095\n",
            "Val   -- Acc: 0.99986 -- Precision: 0.84906 -- Recall: 0.75000 -- F1: 0.79646\n",
            "Epoch 100 (0.57s) -- Train Loss: 0.00075\n",
            "Val   -- Acc: 0.99986 -- Precision: 0.84906 -- Recall: 0.75000 -- F1: 0.79646\n",
            "Val   -- Acc: 0.99987 -- Precision: 0.83929 -- Recall: 0.78333 -- F1: 0.81034\n",
            "Val   -- Acc: 0.99984 -- Precision: 0.92500 -- Recall: 0.61667 -- F1: 0.74000\n",
            "Val   -- Acc: 0.99987 -- Precision: 0.86792 -- Recall: 0.76667 -- F1: 0.81416\n",
            "Val   -- Acc: 0.99985 -- Precision: 0.85714 -- Recall: 0.70000 -- F1: 0.77064\n",
            "Epoch 105 (0.57s) -- Train Loss: 0.00082\n",
            "Val   -- Acc: 0.99985 -- Precision: 0.87234 -- Recall: 0.68333 -- F1: 0.76636\n",
            "Val   -- Acc: 0.99988 -- Precision: 0.87273 -- Recall: 0.80000 -- F1: 0.83478\n",
            "Val   -- Acc: 0.99986 -- Precision: 0.87755 -- Recall: 0.71667 -- F1: 0.78899\n",
            "Val   -- Acc: 0.99986 -- Precision: 0.86275 -- Recall: 0.73333 -- F1: 0.79279\n",
            "Val   -- Acc: 0.99984 -- Precision: 0.84000 -- Recall: 0.70000 -- F1: 0.76364\n",
            "Epoch 110 (0.57s) -- Train Loss: 0.00068\n",
            "Val   -- Acc: 0.99987 -- Precision: 0.80645 -- Recall: 0.83333 -- F1: 0.81967\n",
            "Val   -- Acc: 0.99984 -- Precision: 0.84000 -- Recall: 0.70000 -- F1: 0.76364\n",
            "Val   -- Acc: 0.99986 -- Precision: 0.82456 -- Recall: 0.78333 -- F1: 0.80342\n",
            "Val   -- Acc: 0.99988 -- Precision: 0.91837 -- Recall: 0.75000 -- F1: 0.82569\n",
            "Val   -- Acc: 0.99987 -- Precision: 0.88000 -- Recall: 0.73333 -- F1: 0.80000\n",
            "Epoch 115 (0.58s) -- Train Loss: 0.00063\n",
            "Val   -- Acc: 0.99985 -- Precision: 0.81034 -- Recall: 0.78333 -- F1: 0.79661\n",
            "Val   -- Acc: 0.99987 -- Precision: 0.89583 -- Recall: 0.71667 -- F1: 0.79630\n",
            "Val   -- Acc: 0.99985 -- Precision: 0.89130 -- Recall: 0.68333 -- F1: 0.77358\n",
            "Val   -- Acc: 0.99987 -- Precision: 0.86792 -- Recall: 0.76667 -- F1: 0.81416\n",
            "Val   -- Acc: 0.99985 -- Precision: 0.84615 -- Recall: 0.73333 -- F1: 0.78571\n",
            "Epoch 120 (0.57s) -- Train Loss: 0.00059\n",
            "Val   -- Acc: 0.99987 -- Precision: 0.89583 -- Recall: 0.71667 -- F1: 0.79630\n",
            "Val   -- Acc: 0.99984 -- Precision: 0.78947 -- Recall: 0.75000 -- F1: 0.76923\n",
            "Val   -- Acc: 0.99984 -- Precision: 0.76562 -- Recall: 0.81667 -- F1: 0.79032\n",
            "Val   -- Acc: 0.99986 -- Precision: 0.84906 -- Recall: 0.75000 -- F1: 0.79646\n",
            "Val   -- Acc: 0.99987 -- Precision: 0.89583 -- Recall: 0.71667 -- F1: 0.79630\n",
            "Epoch 125 (0.57s) -- Train Loss: 0.00063\n",
            "Val   -- Acc: 0.99985 -- Precision: 0.87500 -- Recall: 0.70000 -- F1: 0.77778\n",
            "Val   -- Acc: 0.99988 -- Precision: 0.90000 -- Recall: 0.75000 -- F1: 0.81818\n",
            "Val   -- Acc: 0.99985 -- Precision: 0.84615 -- Recall: 0.73333 -- F1: 0.78571\n",
            "Val   -- Acc: 0.99987 -- Precision: 0.89796 -- Recall: 0.73333 -- F1: 0.80734\n",
            "Val   -- Acc: 0.99988 -- Precision: 0.84483 -- Recall: 0.81667 -- F1: 0.83051\n",
            "Epoch 130 (0.57s) -- Train Loss: 0.00057\n",
            "Val   -- Acc: 0.99988 -- Precision: 0.88462 -- Recall: 0.76667 -- F1: 0.82143\n",
            "Val   -- Acc: 0.99987 -- Precision: 0.86792 -- Recall: 0.76667 -- F1: 0.81416\n",
            "Val   -- Acc: 0.99985 -- Precision: 0.79032 -- Recall: 0.81667 -- F1: 0.80328\n",
            "Val   -- Acc: 0.99988 -- Precision: 0.91837 -- Recall: 0.75000 -- F1: 0.82569\n",
            "Val   -- Acc: 0.99985 -- Precision: 0.84615 -- Recall: 0.73333 -- F1: 0.78571\n",
            "Epoch 135 (0.57s) -- Train Loss: 0.00053\n",
            "Val   -- Acc: 0.99987 -- Precision: 0.88235 -- Recall: 0.75000 -- F1: 0.81081\n",
            "Val   -- Acc: 0.99987 -- Precision: 0.91489 -- Recall: 0.71667 -- F1: 0.80374\n",
            "Val   -- Acc: 0.99987 -- Precision: 0.88000 -- Recall: 0.73333 -- F1: 0.80000\n",
            "Val   -- Acc: 0.99985 -- Precision: 0.86000 -- Recall: 0.71667 -- F1: 0.78182\n",
            "Val   -- Acc: 0.99987 -- Precision: 0.91304 -- Recall: 0.70000 -- F1: 0.79245\n",
            "Epoch 140 (0.57s) -- Train Loss: 0.00051\n",
            "Val   -- Acc: 0.99987 -- Precision: 0.89796 -- Recall: 0.73333 -- F1: 0.80734\n",
            "Val   -- Acc: 0.99982 -- Precision: 0.74194 -- Recall: 0.76667 -- F1: 0.75410\n",
            "Val   -- Acc: 0.99987 -- Precision: 0.88000 -- Recall: 0.73333 -- F1: 0.80000\n",
            "Val   -- Acc: 0.99985 -- Precision: 0.87500 -- Recall: 0.70000 -- F1: 0.77778\n",
            "Val   -- Acc: 0.99987 -- Precision: 0.91304 -- Recall: 0.70000 -- F1: 0.79245\n",
            "Epoch 145 (0.58s) -- Train Loss: 0.00050\n",
            "Val   -- Acc: 0.99986 -- Precision: 0.86275 -- Recall: 0.73333 -- F1: 0.79279\n",
            "Val   -- Acc: 0.99987 -- Precision: 0.88000 -- Recall: 0.73333 -- F1: 0.80000\n",
            "Val   -- Acc: 0.99988 -- Precision: 0.88462 -- Recall: 0.76667 -- F1: 0.82143\n",
            "Val   -- Acc: 0.99985 -- Precision: 0.79032 -- Recall: 0.81667 -- F1: 0.80328\n",
            "Val   -- Acc: 0.99988 -- Precision: 0.90000 -- Recall: 0.75000 -- F1: 0.81818\n",
            "Epoch 150 (0.58s) -- Train Loss: 0.00050\n",
            "Val   -- Acc: 0.99986 -- Precision: 0.91111 -- Recall: 0.68333 -- F1: 0.78095\n",
            "Val   -- Acc: 0.99984 -- Precision: 0.85106 -- Recall: 0.66667 -- F1: 0.74766\n",
            "Val   -- Acc: 0.99988 -- Precision: 0.90196 -- Recall: 0.76667 -- F1: 0.82883\n",
            "Val   -- Acc: 0.99987 -- Precision: 0.88000 -- Recall: 0.73333 -- F1: 0.80000\n",
            "Val   -- Acc: 0.99988 -- Precision: 0.85714 -- Recall: 0.80000 -- F1: 0.82759\n",
            "Epoch 155 (0.56s) -- Train Loss: 0.00050\n",
            "Val   -- Acc: 0.99987 -- Precision: 0.88000 -- Recall: 0.73333 -- F1: 0.80000\n",
            "Val   -- Acc: 0.99986 -- Precision: 0.87755 -- Recall: 0.71667 -- F1: 0.78899\n",
            "Val   -- Acc: 0.99987 -- Precision: 0.85185 -- Recall: 0.76667 -- F1: 0.80702\n",
            "Val   -- Acc: 0.99986 -- Precision: 0.89362 -- Recall: 0.70000 -- F1: 0.78505\n",
            "Val   -- Acc: 0.99987 -- Precision: 0.88000 -- Recall: 0.73333 -- F1: 0.80000\n",
            "Epoch 160 (0.57s) -- Train Loss: 0.00044\n",
            "Val   -- Acc: 0.99987 -- Precision: 0.89583 -- Recall: 0.71667 -- F1: 0.79630\n",
            "Val   -- Acc: 0.99984 -- Precision: 0.80357 -- Recall: 0.75000 -- F1: 0.77586\n",
            "Val   -- Acc: 0.99988 -- Precision: 0.90000 -- Recall: 0.75000 -- F1: 0.81818\n",
            "Val   -- Acc: 0.99985 -- Precision: 0.83333 -- Recall: 0.75000 -- F1: 0.78947\n",
            "Val   -- Acc: 0.99986 -- Precision: 0.83636 -- Recall: 0.76667 -- F1: 0.80000\n",
            "Epoch 165 (0.56s) -- Train Loss: 0.00041\n",
            "Val   -- Acc: 0.99985 -- Precision: 0.86000 -- Recall: 0.71667 -- F1: 0.78182\n",
            "Val   -- Acc: 0.99983 -- Precision: 0.76667 -- Recall: 0.76667 -- F1: 0.76667\n",
            "Val   -- Acc: 0.99987 -- Precision: 0.86792 -- Recall: 0.76667 -- F1: 0.81416\n",
            "Val   -- Acc: 0.99987 -- Precision: 0.85185 -- Recall: 0.76667 -- F1: 0.80702\n",
            "Val   -- Acc: 0.99988 -- Precision: 0.91837 -- Recall: 0.75000 -- F1: 0.82569\n",
            "Epoch 170 (0.57s) -- Train Loss: 0.00040\n",
            "Val   -- Acc: 0.99987 -- Precision: 0.93182 -- Recall: 0.68333 -- F1: 0.78846\n",
            "Val   -- Acc: 0.99987 -- Precision: 0.91304 -- Recall: 0.70000 -- F1: 0.79245\n",
            "Val   -- Acc: 0.99985 -- Precision: 0.80000 -- Recall: 0.80000 -- F1: 0.80000\n",
            "Val   -- Acc: 0.99985 -- Precision: 0.81818 -- Recall: 0.75000 -- F1: 0.78261\n",
            "Val   -- Acc: 0.99984 -- Precision: 0.78333 -- Recall: 0.78333 -- F1: 0.78333\n",
            "Epoch 175 (0.57s) -- Train Loss: 0.00036\n",
            "Val   -- Acc: 0.99985 -- Precision: 0.83019 -- Recall: 0.73333 -- F1: 0.77876\n",
            "Val   -- Acc: 0.99982 -- Precision: 0.72727 -- Recall: 0.80000 -- F1: 0.76190\n",
            "Val   -- Acc: 0.99985 -- Precision: 0.83333 -- Recall: 0.75000 -- F1: 0.78947\n",
            "Val   -- Acc: 0.99987 -- Precision: 0.93182 -- Recall: 0.68333 -- F1: 0.78846\n",
            "Val   -- Acc: 0.99987 -- Precision: 0.84211 -- Recall: 0.80000 -- F1: 0.82051\n",
            "Epoch 180 (0.56s) -- Train Loss: 0.00040\n",
            "Val   -- Acc: 0.99985 -- Precision: 0.79661 -- Recall: 0.78333 -- F1: 0.78992\n",
            "Val   -- Acc: 0.99987 -- Precision: 0.88000 -- Recall: 0.73333 -- F1: 0.80000\n",
            "Val   -- Acc: 0.99984 -- Precision: 0.81132 -- Recall: 0.71667 -- F1: 0.76106\n",
            "Val   -- Acc: 0.99985 -- Precision: 0.84615 -- Recall: 0.73333 -- F1: 0.78571\n",
            "Val   -- Acc: 0.99984 -- Precision: 0.78947 -- Recall: 0.75000 -- F1: 0.76923\n",
            "Epoch 185 (0.56s) -- Train Loss: 0.00036\n",
            "Val   -- Acc: 0.99985 -- Precision: 0.83333 -- Recall: 0.75000 -- F1: 0.78947\n",
            "Val   -- Acc: 0.99985 -- Precision: 0.84314 -- Recall: 0.71667 -- F1: 0.77477\n",
            "Val   -- Acc: 0.99986 -- Precision: 0.86275 -- Recall: 0.73333 -- F1: 0.79279\n",
            "Val   -- Acc: 0.99982 -- Precision: 0.75862 -- Recall: 0.73333 -- F1: 0.74576\n",
            "Val   -- Acc: 0.99984 -- Precision: 0.80000 -- Recall: 0.73333 -- F1: 0.76522\n",
            "Epoch 190 (0.57s) -- Train Loss: 0.00039\n",
            "Val   -- Acc: 0.99987 -- Precision: 0.86792 -- Recall: 0.76667 -- F1: 0.81416\n",
            "Val   -- Acc: 0.99986 -- Precision: 0.84906 -- Recall: 0.75000 -- F1: 0.79646\n",
            "Val   -- Acc: 0.99985 -- Precision: 0.86000 -- Recall: 0.71667 -- F1: 0.78182\n",
            "Val   -- Acc: 0.99986 -- Precision: 0.83636 -- Recall: 0.76667 -- F1: 0.80000\n",
            "Val   -- Acc: 0.99984 -- Precision: 0.77966 -- Recall: 0.76667 -- F1: 0.77311\n",
            "Epoch 195 (0.57s) -- Train Loss: 0.00036\n",
            "Val   -- Acc: 0.99985 -- Precision: 0.83019 -- Recall: 0.73333 -- F1: 0.77876\n",
            "Val   -- Acc: 0.99988 -- Precision: 0.90196 -- Recall: 0.76667 -- F1: 0.82883\n",
            "Val   -- Acc: 0.99986 -- Precision: 0.84906 -- Recall: 0.75000 -- F1: 0.79646\n",
            "Val   -- Acc: 0.99983 -- Precision: 0.79630 -- Recall: 0.71667 -- F1: 0.75439\n",
            "Val   -- Acc: 0.99984 -- Precision: 0.90476 -- Recall: 0.63333 -- F1: 0.74510\n",
            "Epoch 200 (0.56s) -- Train Loss: 0.00031\n",
            "Val   -- Acc: 0.99984 -- Precision: 0.86957 -- Recall: 0.66667 -- F1: 0.75472\n",
            "Best F1 this run: 0.8347826086956521\n",
            "\n",
            "Final metrics for model <class 'models.conv_lstm.ConvLSTM'> (1 folds)\n",
            "Val   -- Acc: 0.99988 -- Precision: 0.87273 -- Recall: 0.80000 -- F1: 0.83478\n"
          ]
        }
      ],
      "source": [
        "fold_metrics = np.array([0.0]*4)\n",
        "sample_model = model_creator(config)\n",
        "\n",
        "print(f'Model {type(sample_model)} using {count_parameters(sample_model)} parameters:')\n",
        "\n",
        "model = model_creator(config)\n",
        "optimizer = torch.optim.Adam(model.parameters(), lr=config.lr,\n",
        "                              weight_decay=config.weight_decay)\n",
        "\n",
        "if config.model == \"AnomalyTransformer\":\n",
        "    criterion = model.loss_fn\n",
        "\n",
        "train_loader, test_loader = create_loaders(data,\n",
        "                                            train_ratio=config.train_ratio,\n",
        "                                            batch_size=config.batch_size,\n",
        "                                undersample_ratio=config.undersample_ratio)\n",
        "\n",
        "best_metrics = collect_metrics_n_epochs(model, train_loader=train_loader,\n",
        "                                        test_loader=test_loader,\n",
        "                                        optimizer=optimizer,\n",
        "                                        criterion=criterion, device=device,\n",
        "                                        config=config,\n",
        "                                        feature_count=config.n_feats)\n",
        "\n",
        "fold_metrics += np.array(best_metrics)\n",
        "\n",
        "print(f'Best F1 this run: {best_metrics[-1]}')\n",
        "print()\n",
        "\n",
        "acc, precision, recall, f1 = fold_metrics / config.kfolds\n",
        "\n",
        "print(f'Final metrics for model {type(sample_model)} ({config.kfolds} folds)')\n",
        "print(f'Val   -- Acc: {acc:0.5f} -- Precision: {precision:0.5f} -- Recall: {recall:0.5f} -- F1: {f1:0.5f}')"
      ]
    },
    {
      "cell_type": "markdown",
      "source": [
        "## Part - 3: C-LSTM (15 second Dataset)"
      ],
      "metadata": {
        "id": "Fo8nEr9rBl_0"
      }
    },
    {
      "cell_type": "markdown",
      "source": [
        "Now, lets repeat the same process on 15 second Dataset."
      ],
      "metadata": {
        "id": "pC_Ht2XDjelJ"
      }
    },
    {
      "cell_type": "code",
      "source": [
        "hyperparams = {'embedding_size' : 350, 'n_layers' : 1, 'n_epochs' : 200,\n",
        "               'kernel_size' : 3, 'dropout' : 0.0, 'feature_size' : 13,\n",
        "               'lambda_' : 0.0001, 'lr' : 1e-3, 'weight_decay' : 0.0,\n",
        "               'batch_size' : 600, 'train_ratio' : 0.8,\n",
        "               'undersample_ratio' : 0.1, 'segment_length' : 15,\n",
        "               'prthreshold' : 0.4, 'kfolds' : 1, 'save' : True,\n",
        "               'validate_every_n' : 10, 'train_output_every_n' : 5,\n",
        "               'time_epochs' : True, 'final_run' : True, 'verbose' : False,\n",
        "               'seed' : 42, 'run_count' : 1, 'n_feats' : 0}"
      ],
      "metadata": {
        "id": "epfvhN9RDMBX"
      },
      "execution_count": 28,
      "outputs": []
    },
    {
      "cell_type": "code",
      "source": [
        "config = Config(\"CLSTM\", data_path2, hyperparams)\n",
        "\n",
        "# reproducability\n",
        "\n",
        "torch.manual_seed(config.seed)\n",
        "random.seed(config.seed)\n",
        "np.random.seed(config.seed)\n",
        "g = torch.Generator()\n",
        "g.manual_seed(config.seed)\n",
        "os.environ['UJJWALS_WORKSPACE_CONFIG'] = ':4096:2'"
      ],
      "metadata": {
        "id": "LN-wO55-Bykg"
      },
      "execution_count": 29,
      "outputs": []
    },
    {
      "cell_type": "code",
      "source": [
        "data = get_data(config.dataset, batch_size=config.batch_size,\n",
        "                train_ratio=config.train_ratio,\n",
        "                undersample_ratio=config.undersample_ratio,\n",
        "                segment_length=config.segment_length, save=config.save)\n",
        "\n",
        "# -1 since last column is the target value\n",
        "config.n_feats = data.shape[-1] - 1 if config.feature_size == -1 else config.feature_size"
      ],
      "metadata": {
        "colab": {
          "base_uri": "https://localhost:8080/"
        },
        "id": "CAoLurkqB27Z",
        "outputId": "f61fa480-64a6-4540-b8b4-80409574c843"
      },
      "execution_count": 30,
      "outputs": [
        {
          "output_type": "stream",
          "name": "stdout",
          "text": [
            "Processing data...\n",
            "Segment length: 15\n",
            "Remove post anomaly data: False\n",
            "Data shape: (584104, 16)\n",
            "Pump 48 has 3 rows, skipping\n",
            "Pump 149 has 3 rows, skipping\n",
            "Pump 156 has 3 rows, skipping\n",
            "Pump 180 has 1 rows, skipping\n",
            "Pump 224 has 1 rows, skipping\n",
            "Pump 264 has 2 rows, skipping\n",
            "Pump 299 has 1 rows, skipping\n",
            "Pump 300 has 1 rows, skipping\n",
            "Pump 330 has 4 rows, skipping\n",
            "Pump 331 has 4 rows, skipping\n",
            "Skipped 23 rows total\n",
            "317 pumps\n",
            "584081 rows of data after processing\n"
          ]
        }
      ]
    },
    {
      "cell_type": "code",
      "source": [
        "criterion = torch.nn.BCELoss().to(device)\n",
        "\n",
        "if config.model == \"CLSTM\":\n",
        "    models = [create_conv_model] * config.run_count\n",
        "\n",
        "else:\n",
        "\n",
        "    criterion = torch.nn.MSELoss().to(device)\n",
        "    models = [create_transformer] * config.run_count\n",
        "\n",
        "for model_index, model_creator in enumerate(models):\n",
        "\n",
        "    if len(models) > 1:\n",
        "        print(f'Running model {model_index + 1} of {len(models)}')"
      ],
      "metadata": {
        "id": "UtS9YKXzB22b"
      },
      "execution_count": 31,
      "outputs": []
    },
    {
      "cell_type": "code",
      "source": [
        "fold_metrics = np.array([0.0]*4)\n",
        "sample_model = model_creator(config)\n",
        "\n",
        "print(f'Model {type(sample_model)} using {count_parameters(sample_model)} parameters:')\n",
        "\n",
        "model = model_creator(config)\n",
        "optimizer = torch.optim.Adam(model.parameters(), lr=config.lr,\n",
        "                              weight_decay=config.weight_decay)\n",
        "\n",
        "if config.model == \"AnomalyTransformer\":\n",
        "    criterion = model.loss_fn\n",
        "\n",
        "train_loader, test_loader = create_loaders(data,\n",
        "                                            train_ratio=config.train_ratio,\n",
        "                                            batch_size=config.batch_size,\n",
        "                                undersample_ratio=config.undersample_ratio)\n",
        "\n",
        "best_metrics = collect_metrics_n_epochs(model, train_loader=train_loader,\n",
        "                                        test_loader=test_loader,\n",
        "                                        optimizer=optimizer,\n",
        "                                        criterion=criterion, device=device,\n",
        "                                        config=config,\n",
        "                                        feature_count=config.n_feats)\n",
        "\n",
        "fold_metrics += np.array(best_metrics)\n",
        "\n",
        "print(f'Best F1 this run: {best_metrics[-1]}')\n",
        "print()\n",
        "\n",
        "acc, precision, recall, f1 = fold_metrics / config.kfolds\n",
        "\n",
        "print(f'Final metrics for model {type(sample_model)} ({config.kfolds} folds)')\n",
        "print(f'Val   -- Acc: {acc:0.5f} -- Precision: {precision:0.5f} -- Recall: {recall:0.5f} -- F1: {f1:0.5f}')"
      ],
      "metadata": {
        "colab": {
          "base_uri": "https://localhost:8080/"
        },
        "id": "HHzeUypMB2xb",
        "outputId": "fda2a95a-2033-484b-c534-24f2ae51a119"
      },
      "execution_count": 32,
      "outputs": [
        {
          "output_type": "stream",
          "name": "stdout",
          "text": [
            "Model <class 'models.conv_lstm.ConvLSTM'> using 997851 parameters:\n",
            "Train data shape: (467264, 15, 14)\n",
            "Train data shape after undersampling: (50339, 15, 14)\n",
            "Test data shape: (116817, 15, 14)\n",
            "61.0 segments in test data ending in anomaly\n",
            "Val   -- Acc: 0.99948 -- Precision: 0.00000 -- Recall: 0.00000 -- F1: 0.00000\n",
            "Val   -- Acc: 0.99969 -- Precision: 0.96296 -- Recall: 0.42623 -- F1: 0.59091\n",
            "Val   -- Acc: 0.99977 -- Precision: 0.86957 -- Recall: 0.65574 -- F1: 0.74766\n",
            "Val   -- Acc: 0.99978 -- Precision: 0.83019 -- Recall: 0.72131 -- F1: 0.77193\n",
            "Epoch 5 (1.00s) -- Train Loss: 0.00425\n",
            "Val   -- Acc: 0.99977 -- Precision: 0.77419 -- Recall: 0.78689 -- F1: 0.78049\n",
            "Val   -- Acc: 0.99976 -- Precision: 0.78947 -- Recall: 0.73770 -- F1: 0.76271\n",
            "Val   -- Acc: 0.99979 -- Precision: 0.77273 -- Recall: 0.83607 -- F1: 0.80315\n",
            "Val   -- Acc: 0.99983 -- Precision: 0.82540 -- Recall: 0.85246 -- F1: 0.83871\n",
            "Val   -- Acc: 0.99984 -- Precision: 0.85000 -- Recall: 0.83607 -- F1: 0.84298\n",
            "Epoch 10 (0.98s) -- Train Loss: 0.00286\n",
            "Val   -- Acc: 0.99982 -- Precision: 0.83333 -- Recall: 0.81967 -- F1: 0.82645\n",
            "Val   -- Acc: 0.99979 -- Precision: 0.76812 -- Recall: 0.86885 -- F1: 0.81538\n",
            "Val   -- Acc: 0.99982 -- Precision: 0.85714 -- Recall: 0.78689 -- F1: 0.82051\n",
            "Val   -- Acc: 0.99982 -- Precision: 0.81250 -- Recall: 0.85246 -- F1: 0.83200\n",
            "Val   -- Acc: 0.99984 -- Precision: 0.85000 -- Recall: 0.83607 -- F1: 0.84298\n",
            "Epoch 15 (0.98s) -- Train Loss: 0.00206\n",
            "Val   -- Acc: 0.99982 -- Precision: 0.84483 -- Recall: 0.80328 -- F1: 0.82353\n",
            "Val   -- Acc: 0.99979 -- Precision: 0.78462 -- Recall: 0.83607 -- F1: 0.80952\n",
            "Val   -- Acc: 0.99982 -- Precision: 0.82258 -- Recall: 0.83607 -- F1: 0.82927\n",
            "Val   -- Acc: 0.99982 -- Precision: 0.80303 -- Recall: 0.86885 -- F1: 0.83465\n",
            "Val   -- Acc: 0.99983 -- Precision: 0.87273 -- Recall: 0.78689 -- F1: 0.82759\n",
            "Epoch 20 (0.99s) -- Train Loss: 0.00136\n",
            "Val   -- Acc: 0.99985 -- Precision: 0.87931 -- Recall: 0.83607 -- F1: 0.85714\n",
            "Val   -- Acc: 0.99985 -- Precision: 0.84127 -- Recall: 0.86885 -- F1: 0.85484\n",
            "Val   -- Acc: 0.99985 -- Precision: 0.84375 -- Recall: 0.88525 -- F1: 0.86400\n",
            "Val   -- Acc: 0.99983 -- Precision: 0.85965 -- Recall: 0.80328 -- F1: 0.83051\n",
            "Val   -- Acc: 0.99985 -- Precision: 0.90566 -- Recall: 0.78689 -- F1: 0.84211\n",
            "Epoch 25 (1.04s) -- Train Loss: 0.00092\n",
            "Val   -- Acc: 0.99985 -- Precision: 0.87719 -- Recall: 0.81967 -- F1: 0.84746\n",
            "Val   -- Acc: 0.99980 -- Precision: 0.78788 -- Recall: 0.85246 -- F1: 0.81890\n",
            "Val   -- Acc: 0.99985 -- Precision: 0.86667 -- Recall: 0.85246 -- F1: 0.85950\n",
            "Val   -- Acc: 0.99982 -- Precision: 0.81250 -- Recall: 0.85246 -- F1: 0.83200\n",
            "Val   -- Acc: 0.99984 -- Precision: 0.86207 -- Recall: 0.81967 -- F1: 0.84034\n",
            "Epoch 30 (1.00s) -- Train Loss: 0.00067\n",
            "Val   -- Acc: 0.99985 -- Precision: 0.87719 -- Recall: 0.81967 -- F1: 0.84746\n",
            "Val   -- Acc: 0.99986 -- Precision: 0.86885 -- Recall: 0.86885 -- F1: 0.86885\n",
            "Val   -- Acc: 0.99985 -- Precision: 0.87719 -- Recall: 0.81967 -- F1: 0.84746\n",
            "Val   -- Acc: 0.99979 -- Precision: 0.81034 -- Recall: 0.77049 -- F1: 0.78992\n",
            "Val   -- Acc: 0.99984 -- Precision: 0.87500 -- Recall: 0.80328 -- F1: 0.83761\n",
            "Epoch 35 (0.99s) -- Train Loss: 0.00059\n",
            "Val   -- Acc: 0.99982 -- Precision: 0.80303 -- Recall: 0.86885 -- F1: 0.83465\n",
            "Val   -- Acc: 0.99984 -- Precision: 0.87500 -- Recall: 0.80328 -- F1: 0.83761\n",
            "Val   -- Acc: 0.99984 -- Precision: 0.85000 -- Recall: 0.83607 -- F1: 0.84298\n",
            "Val   -- Acc: 0.99984 -- Precision: 0.82812 -- Recall: 0.86885 -- F1: 0.84800\n",
            "Val   -- Acc: 0.99985 -- Precision: 0.85246 -- Recall: 0.85246 -- F1: 0.85246\n",
            "Epoch 40 (0.99s) -- Train Loss: 0.00050\n",
            "Val   -- Acc: 0.99979 -- Precision: 0.81356 -- Recall: 0.78689 -- F1: 0.80000\n",
            "Val   -- Acc: 0.99984 -- Precision: 0.83871 -- Recall: 0.85246 -- F1: 0.84553\n",
            "Val   -- Acc: 0.99985 -- Precision: 0.87719 -- Recall: 0.81967 -- F1: 0.84746\n",
            "Val   -- Acc: 0.99980 -- Precision: 0.77941 -- Recall: 0.86885 -- F1: 0.82171\n",
            "Val   -- Acc: 0.99982 -- Precision: 0.80303 -- Recall: 0.86885 -- F1: 0.83465\n",
            "Epoch 45 (0.98s) -- Train Loss: 0.00041\n",
            "Val   -- Acc: 0.99982 -- Precision: 0.79412 -- Recall: 0.88525 -- F1: 0.83721\n",
            "Val   -- Acc: 0.99985 -- Precision: 0.86441 -- Recall: 0.83607 -- F1: 0.85000\n",
            "Val   -- Acc: 0.99982 -- Precision: 0.80303 -- Recall: 0.86885 -- F1: 0.83465\n",
            "Val   -- Acc: 0.99982 -- Precision: 0.83333 -- Recall: 0.81967 -- F1: 0.82645\n",
            "Val   -- Acc: 0.99983 -- Precision: 0.82540 -- Recall: 0.85246 -- F1: 0.83871\n",
            "Epoch 50 (0.99s) -- Train Loss: 0.00040\n",
            "Val   -- Acc: 0.99983 -- Precision: 0.81538 -- Recall: 0.86885 -- F1: 0.84127\n",
            "Val   -- Acc: 0.99983 -- Precision: 0.82540 -- Recall: 0.85246 -- F1: 0.83871\n",
            "Val   -- Acc: 0.99984 -- Precision: 0.86207 -- Recall: 0.81967 -- F1: 0.84034\n",
            "Val   -- Acc: 0.99983 -- Precision: 0.83607 -- Recall: 0.83607 -- F1: 0.83607\n",
            "Val   -- Acc: 0.99985 -- Precision: 0.87931 -- Recall: 0.83607 -- F1: 0.85714\n",
            "Epoch 55 (1.00s) -- Train Loss: 0.00031\n",
            "Val   -- Acc: 0.99986 -- Precision: 0.88136 -- Recall: 0.85246 -- F1: 0.86667\n",
            "Val   -- Acc: 0.99983 -- Precision: 0.80597 -- Recall: 0.88525 -- F1: 0.84375\n",
            "Val   -- Acc: 0.99985 -- Precision: 0.85246 -- Recall: 0.85246 -- F1: 0.85246\n",
            "Val   -- Acc: 0.99985 -- Precision: 0.86441 -- Recall: 0.83607 -- F1: 0.85000\n",
            "Val   -- Acc: 0.99986 -- Precision: 0.89474 -- Recall: 0.83607 -- F1: 0.86441\n",
            "Epoch 60 (1.00s) -- Train Loss: 0.00027\n",
            "Val   -- Acc: 0.99983 -- Precision: 0.82540 -- Recall: 0.85246 -- F1: 0.83871\n",
            "Val   -- Acc: 0.99984 -- Precision: 0.83871 -- Recall: 0.85246 -- F1: 0.84553\n",
            "Val   -- Acc: 0.99985 -- Precision: 0.86441 -- Recall: 0.83607 -- F1: 0.85000\n",
            "Val   -- Acc: 0.99985 -- Precision: 0.86667 -- Recall: 0.85246 -- F1: 0.85950\n",
            "Val   -- Acc: 0.99982 -- Precision: 0.85714 -- Recall: 0.78689 -- F1: 0.82051\n",
            "Epoch 65 (1.04s) -- Train Loss: 0.00027\n",
            "Val   -- Acc: 0.99985 -- Precision: 0.86667 -- Recall: 0.85246 -- F1: 0.85950\n",
            "Val   -- Acc: 0.99987 -- Precision: 0.88333 -- Recall: 0.86885 -- F1: 0.87603\n",
            "Val   -- Acc: 0.99986 -- Precision: 0.86885 -- Recall: 0.86885 -- F1: 0.86885\n",
            "Val   -- Acc: 0.99986 -- Precision: 0.88136 -- Recall: 0.85246 -- F1: 0.86667\n",
            "Val   -- Acc: 0.99983 -- Precision: 0.81538 -- Recall: 0.86885 -- F1: 0.84127\n",
            "Epoch 70 (1.01s) -- Train Loss: 0.00023\n",
            "Val   -- Acc: 0.99987 -- Precision: 0.89655 -- Recall: 0.85246 -- F1: 0.87395\n",
            "Val   -- Acc: 0.99985 -- Precision: 0.89286 -- Recall: 0.81967 -- F1: 0.85470\n",
            "Val   -- Acc: 0.99983 -- Precision: 0.80597 -- Recall: 0.88525 -- F1: 0.84375\n",
            "Val   -- Acc: 0.99985 -- Precision: 0.87931 -- Recall: 0.83607 -- F1: 0.85714\n",
            "Val   -- Acc: 0.99986 -- Precision: 0.88136 -- Recall: 0.85246 -- F1: 0.86667\n",
            "Epoch 75 (0.98s) -- Train Loss: 0.00025\n",
            "Val   -- Acc: 0.99985 -- Precision: 0.89286 -- Recall: 0.81967 -- F1: 0.85470\n",
            "Val   -- Acc: 0.99984 -- Precision: 0.82812 -- Recall: 0.86885 -- F1: 0.84800\n",
            "Val   -- Acc: 0.99984 -- Precision: 0.82812 -- Recall: 0.86885 -- F1: 0.84800\n",
            "Val   -- Acc: 0.99986 -- Precision: 0.90909 -- Recall: 0.81967 -- F1: 0.86207\n",
            "Val   -- Acc: 0.99987 -- Precision: 0.92593 -- Recall: 0.81967 -- F1: 0.86957\n",
            "Epoch 80 (0.99s) -- Train Loss: 0.00019\n",
            "Val   -- Acc: 0.99985 -- Precision: 0.86441 -- Recall: 0.83607 -- F1: 0.85000\n",
            "Val   -- Acc: 0.99987 -- Precision: 0.92593 -- Recall: 0.81967 -- F1: 0.86957\n",
            "Val   -- Acc: 0.99986 -- Precision: 0.88136 -- Recall: 0.85246 -- F1: 0.86667\n",
            "Val   -- Acc: 0.99987 -- Precision: 0.89655 -- Recall: 0.85246 -- F1: 0.87395\n",
            "Val   -- Acc: 0.99986 -- Precision: 0.88136 -- Recall: 0.85246 -- F1: 0.86667\n",
            "Epoch 85 (0.99s) -- Train Loss: 0.00018\n",
            "Val   -- Acc: 0.99987 -- Precision: 0.88333 -- Recall: 0.86885 -- F1: 0.87603\n",
            "Val   -- Acc: 0.99984 -- Precision: 0.87500 -- Recall: 0.80328 -- F1: 0.83761\n",
            "Val   -- Acc: 0.99986 -- Precision: 0.88136 -- Recall: 0.85246 -- F1: 0.86667\n",
            "Val   -- Acc: 0.99981 -- Precision: 0.79104 -- Recall: 0.86885 -- F1: 0.82812\n",
            "Val   -- Acc: 0.99985 -- Precision: 0.85246 -- Recall: 0.85246 -- F1: 0.85246\n",
            "Epoch 90 (0.99s) -- Train Loss: 0.00016\n",
            "Val   -- Acc: 0.99986 -- Precision: 0.89474 -- Recall: 0.83607 -- F1: 0.86441\n",
            "Val   -- Acc: 0.99988 -- Precision: 0.91228 -- Recall: 0.85246 -- F1: 0.88136\n",
            "Val   -- Acc: 0.99988 -- Precision: 0.91228 -- Recall: 0.85246 -- F1: 0.88136\n",
            "Val   -- Acc: 0.99985 -- Precision: 0.86667 -- Recall: 0.85246 -- F1: 0.85950\n",
            "Val   -- Acc: 0.99987 -- Precision: 0.88333 -- Recall: 0.86885 -- F1: 0.87603\n",
            "Epoch 95 (0.99s) -- Train Loss: 0.00021\n",
            "Val   -- Acc: 0.99989 -- Precision: 0.91379 -- Recall: 0.86885 -- F1: 0.89076\n",
            "Val   -- Acc: 0.99976 -- Precision: 0.72000 -- Recall: 0.88525 -- F1: 0.79412\n",
            "Val   -- Acc: 0.99985 -- Precision: 0.87719 -- Recall: 0.81967 -- F1: 0.84746\n",
            "Val   -- Acc: 0.99986 -- Precision: 0.89474 -- Recall: 0.83607 -- F1: 0.86441\n",
            "Val   -- Acc: 0.99985 -- Precision: 0.85484 -- Recall: 0.86885 -- F1: 0.86179\n",
            "Epoch 100 (0.99s) -- Train Loss: 0.00015\n",
            "Val   -- Acc: 0.99984 -- Precision: 0.88889 -- Recall: 0.78689 -- F1: 0.83478\n",
            "Val   -- Acc: 0.99986 -- Precision: 0.89474 -- Recall: 0.83607 -- F1: 0.86441\n",
            "Val   -- Acc: 0.99987 -- Precision: 0.92593 -- Recall: 0.81967 -- F1: 0.86957\n",
            "Val   -- Acc: 0.99986 -- Precision: 0.89474 -- Recall: 0.83607 -- F1: 0.86441\n",
            "Val   -- Acc: 0.99985 -- Precision: 0.85484 -- Recall: 0.86885 -- F1: 0.86179\n",
            "Epoch 105 (1.07s) -- Train Loss: 0.00014\n",
            "Val   -- Acc: 0.99984 -- Precision: 0.81818 -- Recall: 0.88525 -- F1: 0.85039\n",
            "Val   -- Acc: 0.99985 -- Precision: 0.89286 -- Recall: 0.81967 -- F1: 0.85470\n",
            "Val   -- Acc: 0.99984 -- Precision: 0.82812 -- Recall: 0.86885 -- F1: 0.84800\n",
            "Val   -- Acc: 0.99985 -- Precision: 0.86441 -- Recall: 0.83607 -- F1: 0.85000\n",
            "Val   -- Acc: 0.99985 -- Precision: 0.89286 -- Recall: 0.81967 -- F1: 0.85470\n",
            "Epoch 110 (0.99s) -- Train Loss: 0.00013\n",
            "Val   -- Acc: 0.99985 -- Precision: 0.87931 -- Recall: 0.83607 -- F1: 0.85714\n",
            "Val   -- Acc: 0.99989 -- Precision: 0.91379 -- Recall: 0.86885 -- F1: 0.89076\n",
            "Val   -- Acc: 0.99986 -- Precision: 0.89474 -- Recall: 0.83607 -- F1: 0.86441\n",
            "Val   -- Acc: 0.99986 -- Precision: 0.88136 -- Recall: 0.85246 -- F1: 0.86667\n",
            "Val   -- Acc: 0.99985 -- Precision: 0.87931 -- Recall: 0.83607 -- F1: 0.85714\n",
            "Epoch 115 (0.99s) -- Train Loss: 0.00012\n",
            "Val   -- Acc: 0.99987 -- Precision: 0.89655 -- Recall: 0.85246 -- F1: 0.87395\n",
            "Val   -- Acc: 0.99985 -- Precision: 0.87931 -- Recall: 0.83607 -- F1: 0.85714\n",
            "Val   -- Acc: 0.99989 -- Precision: 0.94444 -- Recall: 0.83607 -- F1: 0.88696\n",
            "Val   -- Acc: 0.99985 -- Precision: 0.86441 -- Recall: 0.83607 -- F1: 0.85000\n",
            "Val   -- Acc: 0.99988 -- Precision: 0.91228 -- Recall: 0.85246 -- F1: 0.88136\n",
            "Epoch 120 (0.99s) -- Train Loss: 0.00012\n",
            "Val   -- Acc: 0.99986 -- Precision: 0.88136 -- Recall: 0.85246 -- F1: 0.86667\n",
            "Val   -- Acc: 0.99987 -- Precision: 0.88333 -- Recall: 0.86885 -- F1: 0.87603\n",
            "Val   -- Acc: 0.99986 -- Precision: 0.90909 -- Recall: 0.81967 -- F1: 0.86207\n",
            "Val   -- Acc: 0.99985 -- Precision: 0.89286 -- Recall: 0.81967 -- F1: 0.85470\n",
            "Val   -- Acc: 0.99985 -- Precision: 0.89091 -- Recall: 0.80328 -- F1: 0.84483\n",
            "Epoch 125 (0.99s) -- Train Loss: 0.00013\n",
            "Val   -- Acc: 0.99985 -- Precision: 0.87931 -- Recall: 0.83607 -- F1: 0.85714\n",
            "Val   -- Acc: 0.99987 -- Precision: 0.91071 -- Recall: 0.83607 -- F1: 0.87179\n",
            "Val   -- Acc: 0.99985 -- Precision: 0.89091 -- Recall: 0.80328 -- F1: 0.84483\n",
            "Val   -- Acc: 0.99987 -- Precision: 0.91071 -- Recall: 0.83607 -- F1: 0.87179\n",
            "Val   -- Acc: 0.99984 -- Precision: 0.86207 -- Recall: 0.81967 -- F1: 0.84034\n",
            "Epoch 130 (0.98s) -- Train Loss: 0.00009\n",
            "Val   -- Acc: 0.99985 -- Precision: 0.89286 -- Recall: 0.81967 -- F1: 0.85470\n",
            "Val   -- Acc: 0.99988 -- Precision: 0.89831 -- Recall: 0.86885 -- F1: 0.88333\n",
            "Val   -- Acc: 0.99985 -- Precision: 0.87719 -- Recall: 0.81967 -- F1: 0.84746\n",
            "Val   -- Acc: 0.99987 -- Precision: 0.88333 -- Recall: 0.86885 -- F1: 0.87603\n",
            "Val   -- Acc: 0.99983 -- Precision: 0.85965 -- Recall: 0.80328 -- F1: 0.83051\n",
            "Epoch 135 (0.99s) -- Train Loss: 0.00012\n",
            "Val   -- Acc: 0.99987 -- Precision: 0.87097 -- Recall: 0.88525 -- F1: 0.87805\n",
            "Val   -- Acc: 0.99982 -- Precision: 0.78571 -- Recall: 0.90164 -- F1: 0.83969\n",
            "Val   -- Acc: 0.99987 -- Precision: 0.87097 -- Recall: 0.88525 -- F1: 0.87805\n",
            "Val   -- Acc: 0.99988 -- Precision: 0.92727 -- Recall: 0.83607 -- F1: 0.87931\n",
            "Val   -- Acc: 0.99985 -- Precision: 0.84127 -- Recall: 0.86885 -- F1: 0.85484\n",
            "Epoch 140 (1.00s) -- Train Loss: 0.00011\n",
            "Val   -- Acc: 0.99986 -- Precision: 0.89474 -- Recall: 0.83607 -- F1: 0.86441\n",
            "Val   -- Acc: 0.99986 -- Precision: 0.86885 -- Recall: 0.86885 -- F1: 0.86885\n",
            "Val   -- Acc: 0.99985 -- Precision: 0.87719 -- Recall: 0.81967 -- F1: 0.84746\n",
            "Val   -- Acc: 0.99985 -- Precision: 0.92157 -- Recall: 0.77049 -- F1: 0.83929\n",
            "Val   -- Acc: 0.99986 -- Precision: 0.92453 -- Recall: 0.80328 -- F1: 0.85965\n",
            "Epoch 145 (1.03s) -- Train Loss: 0.00009\n",
            "Val   -- Acc: 0.99987 -- Precision: 0.92593 -- Recall: 0.81967 -- F1: 0.86957\n",
            "Val   -- Acc: 0.99988 -- Precision: 0.91228 -- Recall: 0.85246 -- F1: 0.88136\n",
            "Val   -- Acc: 0.99987 -- Precision: 0.89655 -- Recall: 0.85246 -- F1: 0.87395\n",
            "Val   -- Acc: 0.99985 -- Precision: 0.86667 -- Recall: 0.85246 -- F1: 0.85950\n",
            "Val   -- Acc: 0.99990 -- Precision: 0.92982 -- Recall: 0.86885 -- F1: 0.89831\n",
            "Epoch 150 (1.01s) -- Train Loss: 0.00018\n",
            "Val   -- Acc: 0.99986 -- Precision: 0.88136 -- Recall: 0.85246 -- F1: 0.86667\n",
            "Val   -- Acc: 0.99988 -- Precision: 0.89831 -- Recall: 0.86885 -- F1: 0.88333\n",
            "Val   -- Acc: 0.99987 -- Precision: 0.89655 -- Recall: 0.85246 -- F1: 0.87395\n",
            "Val   -- Acc: 0.99989 -- Precision: 0.91379 -- Recall: 0.86885 -- F1: 0.89076\n",
            "Val   -- Acc: 0.99987 -- Precision: 0.91071 -- Recall: 0.83607 -- F1: 0.87179\n",
            "Epoch 155 (1.01s) -- Train Loss: 0.00007\n",
            "Val   -- Acc: 0.99986 -- Precision: 0.90909 -- Recall: 0.81967 -- F1: 0.86207\n",
            "Val   -- Acc: 0.99989 -- Precision: 0.91379 -- Recall: 0.86885 -- F1: 0.89076\n",
            "Val   -- Acc: 0.99986 -- Precision: 0.85714 -- Recall: 0.88525 -- F1: 0.87097\n",
            "Val   -- Acc: 0.99988 -- Precision: 0.88525 -- Recall: 0.88525 -- F1: 0.88525\n",
            "Val   -- Acc: 0.99986 -- Precision: 0.88136 -- Recall: 0.85246 -- F1: 0.86667\n",
            "Epoch 160 (0.99s) -- Train Loss: 0.00008\n",
            "Val   -- Acc: 0.99985 -- Precision: 0.83077 -- Recall: 0.88525 -- F1: 0.85714\n",
            "Val   -- Acc: 0.99987 -- Precision: 0.87097 -- Recall: 0.88525 -- F1: 0.87805\n",
            "Val   -- Acc: 0.99986 -- Precision: 0.85714 -- Recall: 0.88525 -- F1: 0.87097\n",
            "Val   -- Acc: 0.99986 -- Precision: 0.94118 -- Recall: 0.78689 -- F1: 0.85714\n",
            "Val   -- Acc: 0.99991 -- Precision: 0.91667 -- Recall: 0.90164 -- F1: 0.90909\n",
            "Epoch 165 (0.99s) -- Train Loss: 0.00012\n",
            "Val   -- Acc: 0.99985 -- Precision: 0.85246 -- Recall: 0.85246 -- F1: 0.85246\n",
            "Val   -- Acc: 0.99988 -- Precision: 0.91228 -- Recall: 0.85246 -- F1: 0.88136\n",
            "Val   -- Acc: 0.99986 -- Precision: 0.90909 -- Recall: 0.81967 -- F1: 0.86207\n",
            "Val   -- Acc: 0.99990 -- Precision: 0.96226 -- Recall: 0.83607 -- F1: 0.89474\n",
            "Val   -- Acc: 0.99988 -- Precision: 0.88525 -- Recall: 0.88525 -- F1: 0.88525\n",
            "Epoch 170 (0.99s) -- Train Loss: 0.00009\n",
            "Val   -- Acc: 0.99987 -- Precision: 0.88333 -- Recall: 0.86885 -- F1: 0.87603\n",
            "Val   -- Acc: 0.99987 -- Precision: 0.88333 -- Recall: 0.86885 -- F1: 0.87603\n",
            "Val   -- Acc: 0.99989 -- Precision: 0.96154 -- Recall: 0.81967 -- F1: 0.88496\n",
            "Val   -- Acc: 0.99987 -- Precision: 0.88333 -- Recall: 0.86885 -- F1: 0.87603\n",
            "Val   -- Acc: 0.99990 -- Precision: 0.91525 -- Recall: 0.88525 -- F1: 0.90000\n",
            "Epoch 175 (0.99s) -- Train Loss: 0.00008\n",
            "Val   -- Acc: 0.99991 -- Precision: 0.94737 -- Recall: 0.88525 -- F1: 0.91525\n",
            "Val   -- Acc: 0.99988 -- Precision: 0.88525 -- Recall: 0.88525 -- F1: 0.88525\n",
            "Val   -- Acc: 0.99986 -- Precision: 0.88136 -- Recall: 0.85246 -- F1: 0.86667\n",
            "Val   -- Acc: 0.99988 -- Precision: 0.88525 -- Recall: 0.88525 -- F1: 0.88525\n",
            "Val   -- Acc: 0.99988 -- Precision: 0.88525 -- Recall: 0.88525 -- F1: 0.88525\n",
            "Epoch 180 (0.99s) -- Train Loss: 0.00008\n",
            "Val   -- Acc: 0.99987 -- Precision: 0.88333 -- Recall: 0.86885 -- F1: 0.87603\n",
            "Val   -- Acc: 0.99985 -- Precision: 0.84127 -- Recall: 0.86885 -- F1: 0.85484\n",
            "Val   -- Acc: 0.99986 -- Precision: 0.89474 -- Recall: 0.83607 -- F1: 0.86441\n",
            "Val   -- Acc: 0.99988 -- Precision: 0.89831 -- Recall: 0.86885 -- F1: 0.88333\n",
            "Val   -- Acc: 0.99986 -- Precision: 0.89474 -- Recall: 0.83607 -- F1: 0.86441\n",
            "Epoch 185 (0.98s) -- Train Loss: 0.00006\n",
            "Val   -- Acc: 0.99987 -- Precision: 0.88333 -- Recall: 0.86885 -- F1: 0.87603\n",
            "Val   -- Acc: 0.99985 -- Precision: 0.87931 -- Recall: 0.83607 -- F1: 0.85714\n",
            "Val   -- Acc: 0.99987 -- Precision: 0.89655 -- Recall: 0.85246 -- F1: 0.87395\n",
            "Val   -- Acc: 0.99988 -- Precision: 0.92727 -- Recall: 0.83607 -- F1: 0.87931\n",
            "Val   -- Acc: 0.99989 -- Precision: 0.90000 -- Recall: 0.88525 -- F1: 0.89256\n",
            "Epoch 190 (1.03s) -- Train Loss: 0.00006\n",
            "Val   -- Acc: 0.99987 -- Precision: 0.87097 -- Recall: 0.88525 -- F1: 0.87805\n",
            "Val   -- Acc: 0.99988 -- Precision: 0.88525 -- Recall: 0.88525 -- F1: 0.88525\n",
            "Val   -- Acc: 0.99987 -- Precision: 0.91071 -- Recall: 0.83607 -- F1: 0.87179\n",
            "Val   -- Acc: 0.99988 -- Precision: 0.88525 -- Recall: 0.88525 -- F1: 0.88525\n",
            "Val   -- Acc: 0.99986 -- Precision: 0.94118 -- Recall: 0.78689 -- F1: 0.85714\n",
            "Epoch 195 (1.06s) -- Train Loss: 0.00008\n",
            "Val   -- Acc: 0.99985 -- Precision: 0.85246 -- Recall: 0.85246 -- F1: 0.85246\n",
            "Val   -- Acc: 0.99986 -- Precision: 0.86885 -- Recall: 0.86885 -- F1: 0.86885\n",
            "Val   -- Acc: 0.99986 -- Precision: 0.86885 -- Recall: 0.86885 -- F1: 0.86885\n",
            "Val   -- Acc: 0.99988 -- Precision: 0.91228 -- Recall: 0.85246 -- F1: 0.88136\n",
            "Val   -- Acc: 0.99986 -- Precision: 0.86885 -- Recall: 0.86885 -- F1: 0.86885\n",
            "Epoch 200 (1.09s) -- Train Loss: 0.00004\n",
            "Val   -- Acc: 0.99987 -- Precision: 0.89655 -- Recall: 0.85246 -- F1: 0.87395\n",
            "Best F1 this run: 0.9152542372881356\n",
            "\n",
            "Final metrics for model <class 'models.conv_lstm.ConvLSTM'> (1 folds)\n",
            "Val   -- Acc: 0.99991 -- Precision: 0.94737 -- Recall: 0.88525 -- F1: 0.91525\n"
          ]
        }
      ]
    },
    {
      "cell_type": "markdown",
      "source": [
        "## Part - 4: C-LSTM (25 second Dataset)"
      ],
      "metadata": {
        "id": "-YTnf6M2FD-T"
      }
    },
    {
      "cell_type": "markdown",
      "source": [
        "Now, lets repeat the same process on the 25 second Dataset."
      ],
      "metadata": {
        "id": "lyWabFWHjprr"
      }
    },
    {
      "cell_type": "code",
      "source": [
        "hyperparams = {'embedding_size' : 350, 'n_layers' : 1, 'n_epochs' : 200,\n",
        "               'kernel_size' : 3, 'dropout' : 0.0, 'feature_size' : 13,\n",
        "               'lambda_' : 0.0001, 'lr' : 1e-3, 'weight_decay' : 0.0,\n",
        "               'batch_size' : 600, 'train_ratio' : 0.8,\n",
        "               'undersample_ratio' : 0.05, 'segment_length' : 15,\n",
        "               'prthreshold' : 0.65, 'kfolds' : 1, 'save' : True,\n",
        "               'validate_every_n' : 10, 'train_output_every_n' : 5,\n",
        "               'time_epochs' : True, 'final_run' : True, 'verbose' : False,\n",
        "               'seed' : 42, 'run_count' : 1, 'n_feats' : 0}"
      ],
      "metadata": {
        "id": "Or9uCaMRFS-Y"
      },
      "execution_count": 33,
      "outputs": []
    },
    {
      "cell_type": "code",
      "source": [
        "config = Config(\"CLSTM\", data_path3, hyperparams)\n",
        "\n",
        "# reproducability\n",
        "\n",
        "torch.manual_seed(config.seed)\n",
        "random.seed(config.seed)\n",
        "np.random.seed(config.seed)\n",
        "g = torch.Generator()\n",
        "g.manual_seed(config.seed)\n",
        "os.environ['UJJWALS_WORKSPACE_CONFIG'] = ':4096:2'"
      ],
      "metadata": {
        "id": "gpp6CYUnFS3g"
      },
      "execution_count": 38,
      "outputs": []
    },
    {
      "cell_type": "code",
      "source": [
        "data = get_data(config.dataset, batch_size=config.batch_size,\n",
        "                train_ratio=config.train_ratio,\n",
        "                undersample_ratio=config.undersample_ratio,\n",
        "                segment_length=config.segment_length, save=config.save)\n",
        "\n",
        "# -1 since last column is the target value\n",
        "config.n_feats = data.shape[-1] - 1 if config.feature_size == -1 else config.feature_size"
      ],
      "metadata": {
        "colab": {
          "base_uri": "https://localhost:8080/"
        },
        "id": "BGsuesr_FSwU",
        "outputId": "8f7a9dbe-4fbd-41d6-95b8-56eee19d09f0"
      },
      "execution_count": 35,
      "outputs": [
        {
          "output_type": "stream",
          "name": "stdout",
          "text": [
            "Processing data...\n",
            "Segment length: 15\n",
            "Remove post anomaly data: False\n",
            "Data shape: (482157, 16)\n",
            "Pump 48 has 3 rows, skipping\n",
            "Pump 149 has 2 rows, skipping\n",
            "Pump 156 has 3 rows, skipping\n",
            "Pump 180 has 1 rows, skipping\n",
            "Pump 224 has 1 rows, skipping\n",
            "Pump 264 has 2 rows, skipping\n",
            "Pump 299 has 1 rows, skipping\n",
            "Pump 300 has 1 rows, skipping\n",
            "Pump 330 has 3 rows, skipping\n",
            "Pump 331 has 3 rows, skipping\n",
            "Skipped 20 rows total\n",
            "317 pumps\n",
            "482137 rows of data after processing\n"
          ]
        }
      ]
    },
    {
      "cell_type": "code",
      "source": [
        "criterion = torch.nn.BCELoss().to(device)\n",
        "\n",
        "if config.model == \"CLSTM\":\n",
        "    models = [create_conv_model] * config.run_count\n",
        "\n",
        "else:\n",
        "\n",
        "    criterion = torch.nn.MSELoss().to(device)\n",
        "    models = [create_transformer] * config.run_count\n",
        "\n",
        "for model_index, model_creator in enumerate(models):\n",
        "\n",
        "    if len(models) > 1:\n",
        "        print(f'Running model {model_index + 1} of {len(models)}')"
      ],
      "metadata": {
        "id": "rZ3uMlehFSok"
      },
      "execution_count": 36,
      "outputs": []
    },
    {
      "cell_type": "code",
      "source": [
        "fold_metrics = np.array([0.0]*4)\n",
        "sample_model = model_creator(config)\n",
        "\n",
        "print(f'Model {type(sample_model)} using {count_parameters(sample_model)} parameters:')\n",
        "\n",
        "model = model_creator(config)\n",
        "optimizer = torch.optim.Adam(model.parameters(), lr=config.lr,\n",
        "                              weight_decay=config.weight_decay)\n",
        "\n",
        "if config.model == \"AnomalyTransformer\":\n",
        "    criterion = model.loss_fn\n",
        "\n",
        "train_loader, test_loader = create_loaders(data,\n",
        "                                            train_ratio=config.train_ratio,\n",
        "                                            batch_size=config.batch_size,\n",
        "                                undersample_ratio=config.undersample_ratio)\n",
        "\n",
        "best_metrics = collect_metrics_n_epochs(model, train_loader=train_loader,\n",
        "                                        test_loader=test_loader,\n",
        "                                        optimizer=optimizer,\n",
        "                                        criterion=criterion, device=device,\n",
        "                                        config=config,\n",
        "                                        feature_count=config.n_feats)\n",
        "\n",
        "fold_metrics += np.array(best_metrics)\n",
        "\n",
        "print(f'Best F1 this run: {best_metrics[-1]}')\n",
        "print()\n",
        "\n",
        "acc, precision, recall, f1 = fold_metrics / config.kfolds\n",
        "\n",
        "print(f'Final metrics for model {type(sample_model)} ({config.kfolds} folds)')\n",
        "print(f'Val   -- Acc: {acc:0.5f} -- Precision: {precision:0.5f} -- Recall: {recall:0.5f} -- F1: {f1:0.5f}')"
      ],
      "metadata": {
        "colab": {
          "base_uri": "https://localhost:8080/"
        },
        "id": "ABxaU3FLB2rK",
        "outputId": "86aa6ad6-f22a-4648-ee79-fbaa8948bfb6"
      },
      "execution_count": 38,
      "outputs": [
        {
          "output_type": "stream",
          "name": "stdout",
          "text": [
            "Model <class 'models.conv_lstm.ConvLSTM'> using 997851 parameters:\n",
            "Train data shape: (385709, 15, 14)\n",
            "Train data shape after undersampling: (22722, 15, 14)\n",
            "Test data shape: (96428, 15, 14)\n",
            "62.0 segments in test data ending in anomaly\n",
            "Val   -- Acc: 0.99936 -- Precision: 0.00000 -- Recall: 0.00000 -- F1: 0.00000\n",
            "Val   -- Acc: 0.99936 -- Precision: 0.00000 -- Recall: 0.00000 -- F1: 0.00000\n",
            "Val   -- Acc: 0.99936 -- Precision: 0.00000 -- Recall: 0.00000 -- F1: 0.00000\n",
            "Val   -- Acc: 0.99969 -- Precision: 1.00000 -- Recall: 0.51613 -- F1: 0.68085\n",
            "Epoch 5 (0.44s) -- Train Loss: 0.01312\n",
            "Val   -- Acc: 0.99975 -- Precision: 1.00000 -- Recall: 0.61290 -- F1: 0.76000\n",
            "Val   -- Acc: 0.99977 -- Precision: 0.97619 -- Recall: 0.66129 -- F1: 0.78846\n",
            "Val   -- Acc: 0.99977 -- Precision: 0.91667 -- Recall: 0.70968 -- F1: 0.80000\n",
            "Val   -- Acc: 0.99981 -- Precision: 0.94000 -- Recall: 0.75806 -- F1: 0.83929\n",
            "Val   -- Acc: 0.99981 -- Precision: 0.94000 -- Recall: 0.75806 -- F1: 0.83929\n",
            "Epoch 10 (0.45s) -- Train Loss: 0.00496\n",
            "Val   -- Acc: 0.99982 -- Precision: 0.94118 -- Recall: 0.77419 -- F1: 0.84956\n",
            "Val   -- Acc: 0.99979 -- Precision: 0.88889 -- Recall: 0.77419 -- F1: 0.82759\n",
            "Val   -- Acc: 0.99981 -- Precision: 0.89286 -- Recall: 0.80645 -- F1: 0.84746\n",
            "Val   -- Acc: 0.99981 -- Precision: 0.89286 -- Recall: 0.80645 -- F1: 0.84746\n",
            "Val   -- Acc: 0.99983 -- Precision: 0.92593 -- Recall: 0.80645 -- F1: 0.86207\n",
            "Epoch 15 (0.44s) -- Train Loss: 0.00372\n",
            "Val   -- Acc: 0.99981 -- Precision: 0.89286 -- Recall: 0.80645 -- F1: 0.84746\n",
            "Val   -- Acc: 0.99979 -- Precision: 0.87500 -- Recall: 0.79032 -- F1: 0.83051\n",
            "Val   -- Acc: 0.99978 -- Precision: 0.85965 -- Recall: 0.79032 -- F1: 0.82353\n",
            "Val   -- Acc: 0.99983 -- Precision: 0.94231 -- Recall: 0.79032 -- F1: 0.85965\n",
            "Val   -- Acc: 0.99981 -- Precision: 0.90741 -- Recall: 0.79032 -- F1: 0.84483\n",
            "Epoch 20 (0.44s) -- Train Loss: 0.00300\n",
            "Val   -- Acc: 0.99979 -- Precision: 0.87500 -- Recall: 0.79032 -- F1: 0.83051\n",
            "Val   -- Acc: 0.99979 -- Precision: 0.87500 -- Recall: 0.79032 -- F1: 0.83051\n",
            "Val   -- Acc: 0.99980 -- Precision: 0.89091 -- Recall: 0.79032 -- F1: 0.83761\n",
            "Val   -- Acc: 0.99980 -- Precision: 0.89091 -- Recall: 0.79032 -- F1: 0.83761\n",
            "Val   -- Acc: 0.99981 -- Precision: 0.87931 -- Recall: 0.82258 -- F1: 0.85000\n",
            "Epoch 25 (0.47s) -- Train Loss: 0.00253\n",
            "Val   -- Acc: 0.99979 -- Precision: 0.88889 -- Recall: 0.77419 -- F1: 0.82759\n",
            "Val   -- Acc: 0.99979 -- Precision: 0.88889 -- Recall: 0.77419 -- F1: 0.82759\n",
            "Val   -- Acc: 0.99981 -- Precision: 0.92308 -- Recall: 0.77419 -- F1: 0.84211\n",
            "Val   -- Acc: 0.99982 -- Precision: 0.94118 -- Recall: 0.77419 -- F1: 0.84956\n",
            "Val   -- Acc: 0.99979 -- Precision: 0.88889 -- Recall: 0.77419 -- F1: 0.82759\n",
            "Epoch 30 (0.44s) -- Train Loss: 0.00206\n",
            "Val   -- Acc: 0.99979 -- Precision: 0.86207 -- Recall: 0.80645 -- F1: 0.83333\n",
            "Val   -- Acc: 0.99980 -- Precision: 0.90566 -- Recall: 0.77419 -- F1: 0.83478\n",
            "Val   -- Acc: 0.99979 -- Precision: 0.88889 -- Recall: 0.77419 -- F1: 0.82759\n",
            "Val   -- Acc: 0.99977 -- Precision: 0.85714 -- Recall: 0.77419 -- F1: 0.81356\n",
            "Val   -- Acc: 0.99978 -- Precision: 0.85965 -- Recall: 0.79032 -- F1: 0.82353\n",
            "Epoch 35 (0.45s) -- Train Loss: 0.00175\n",
            "Val   -- Acc: 0.99980 -- Precision: 0.89091 -- Recall: 0.79032 -- F1: 0.83761\n",
            "Val   -- Acc: 0.99983 -- Precision: 0.94231 -- Recall: 0.79032 -- F1: 0.85965\n",
            "Val   -- Acc: 0.99977 -- Precision: 0.84483 -- Recall: 0.79032 -- F1: 0.81667\n",
            "Val   -- Acc: 0.99981 -- Precision: 0.90741 -- Recall: 0.79032 -- F1: 0.84483\n",
            "Val   -- Acc: 0.99979 -- Precision: 0.87500 -- Recall: 0.79032 -- F1: 0.83051\n",
            "Epoch 40 (0.44s) -- Train Loss: 0.00142\n",
            "Val   -- Acc: 0.99980 -- Precision: 0.87719 -- Recall: 0.80645 -- F1: 0.84034\n",
            "Val   -- Acc: 0.99980 -- Precision: 0.87719 -- Recall: 0.80645 -- F1: 0.84034\n",
            "Val   -- Acc: 0.99977 -- Precision: 0.83333 -- Recall: 0.80645 -- F1: 0.81967\n",
            "Val   -- Acc: 0.99982 -- Precision: 0.90909 -- Recall: 0.80645 -- F1: 0.85470\n",
            "Val   -- Acc: 0.99973 -- Precision: 0.76471 -- Recall: 0.83871 -- F1: 0.80000\n",
            "Epoch 45 (0.44s) -- Train Loss: 0.00114\n",
            "Val   -- Acc: 0.99978 -- Precision: 0.83607 -- Recall: 0.82258 -- F1: 0.82927\n",
            "Val   -- Acc: 0.99983 -- Precision: 0.92593 -- Recall: 0.80645 -- F1: 0.86207\n",
            "Val   -- Acc: 0.99974 -- Precision: 0.76056 -- Recall: 0.87097 -- F1: 0.81203\n",
            "Val   -- Acc: 0.99982 -- Precision: 0.92453 -- Recall: 0.79032 -- F1: 0.85217\n",
            "Val   -- Acc: 0.99982 -- Precision: 0.90909 -- Recall: 0.80645 -- F1: 0.85470\n",
            "Epoch 50 (0.45s) -- Train Loss: 0.00083\n",
            "Val   -- Acc: 0.99981 -- Precision: 0.87931 -- Recall: 0.82258 -- F1: 0.85000\n",
            "Val   -- Acc: 0.99983 -- Precision: 0.92593 -- Recall: 0.80645 -- F1: 0.86207\n",
            "Val   -- Acc: 0.99984 -- Precision: 0.92727 -- Recall: 0.82258 -- F1: 0.87179\n",
            "Val   -- Acc: 0.99984 -- Precision: 0.94340 -- Recall: 0.80645 -- F1: 0.86957\n",
            "Val   -- Acc: 0.99983 -- Precision: 0.92593 -- Recall: 0.80645 -- F1: 0.86207\n",
            "Epoch 55 (0.44s) -- Train Loss: 0.00073\n",
            "Val   -- Acc: 0.99985 -- Precision: 0.92857 -- Recall: 0.83871 -- F1: 0.88136\n",
            "Val   -- Acc: 0.99979 -- Precision: 0.83871 -- Recall: 0.83871 -- F1: 0.83871\n",
            "Val   -- Acc: 0.99979 -- Precision: 0.86207 -- Recall: 0.80645 -- F1: 0.83333\n",
            "Val   -- Acc: 0.99982 -- Precision: 0.90909 -- Recall: 0.80645 -- F1: 0.85470\n",
            "Val   -- Acc: 0.99981 -- Precision: 0.87931 -- Recall: 0.82258 -- F1: 0.85000\n",
            "Epoch 60 (0.45s) -- Train Loss: 0.00059\n",
            "Val   -- Acc: 0.99984 -- Precision: 0.92727 -- Recall: 0.82258 -- F1: 0.87179\n",
            "Val   -- Acc: 0.99982 -- Precision: 0.89474 -- Recall: 0.82258 -- F1: 0.85714\n",
            "Val   -- Acc: 0.99978 -- Precision: 0.83607 -- Recall: 0.82258 -- F1: 0.82927\n",
            "Val   -- Acc: 0.99980 -- Precision: 0.86441 -- Recall: 0.82258 -- F1: 0.84298\n",
            "Val   -- Acc: 0.99981 -- Precision: 0.87931 -- Recall: 0.82258 -- F1: 0.85000\n",
            "Epoch 65 (0.44s) -- Train Loss: 0.00053\n",
            "Val   -- Acc: 0.99981 -- Precision: 0.87931 -- Recall: 0.82258 -- F1: 0.85000\n",
            "Val   -- Acc: 0.99984 -- Precision: 0.92727 -- Recall: 0.82258 -- F1: 0.87179\n",
            "Val   -- Acc: 0.99982 -- Precision: 0.89474 -- Recall: 0.82258 -- F1: 0.85714\n",
            "Val   -- Acc: 0.99983 -- Precision: 0.91071 -- Recall: 0.82258 -- F1: 0.86441\n",
            "Val   -- Acc: 0.99978 -- Precision: 0.84746 -- Recall: 0.80645 -- F1: 0.82645\n",
            "Epoch 70 (0.47s) -- Train Loss: 0.00048\n",
            "Val   -- Acc: 0.99982 -- Precision: 0.90909 -- Recall: 0.80645 -- F1: 0.85470\n",
            "Val   -- Acc: 0.99984 -- Precision: 0.94340 -- Recall: 0.80645 -- F1: 0.86957\n",
            "Val   -- Acc: 0.99985 -- Precision: 0.94444 -- Recall: 0.82258 -- F1: 0.87931\n",
            "Val   -- Acc: 0.99984 -- Precision: 0.94340 -- Recall: 0.80645 -- F1: 0.86957\n",
            "Val   -- Acc: 0.99984 -- Precision: 0.92727 -- Recall: 0.82258 -- F1: 0.87179\n",
            "Epoch 75 (0.44s) -- Train Loss: 0.00043\n",
            "Val   -- Acc: 0.99983 -- Precision: 0.91071 -- Recall: 0.82258 -- F1: 0.86441\n",
            "Val   -- Acc: 0.99985 -- Precision: 0.94444 -- Recall: 0.82258 -- F1: 0.87931\n",
            "Val   -- Acc: 0.99985 -- Precision: 0.94444 -- Recall: 0.82258 -- F1: 0.87931\n",
            "Val   -- Acc: 0.99985 -- Precision: 0.94444 -- Recall: 0.82258 -- F1: 0.87931\n",
            "Val   -- Acc: 0.99983 -- Precision: 0.91071 -- Recall: 0.82258 -- F1: 0.86441\n",
            "Epoch 80 (0.44s) -- Train Loss: 0.00041\n",
            "Val   -- Acc: 0.99985 -- Precision: 0.92857 -- Recall: 0.83871 -- F1: 0.88136\n",
            "Val   -- Acc: 0.99987 -- Precision: 0.96226 -- Recall: 0.82258 -- F1: 0.88696\n",
            "Val   -- Acc: 0.99985 -- Precision: 0.94444 -- Recall: 0.82258 -- F1: 0.87931\n",
            "Val   -- Acc: 0.99983 -- Precision: 0.89655 -- Recall: 0.83871 -- F1: 0.86667\n",
            "Val   -- Acc: 0.99981 -- Precision: 0.87931 -- Recall: 0.82258 -- F1: 0.85000\n",
            "Epoch 85 (0.45s) -- Train Loss: 0.00041\n",
            "Val   -- Acc: 0.99982 -- Precision: 0.89474 -- Recall: 0.82258 -- F1: 0.85714\n",
            "Val   -- Acc: 0.99983 -- Precision: 0.91071 -- Recall: 0.82258 -- F1: 0.86441\n",
            "Val   -- Acc: 0.99982 -- Precision: 0.89474 -- Recall: 0.82258 -- F1: 0.85714\n",
            "Val   -- Acc: 0.99980 -- Precision: 0.86441 -- Recall: 0.82258 -- F1: 0.84298\n",
            "Val   -- Acc: 0.99982 -- Precision: 0.88136 -- Recall: 0.83871 -- F1: 0.85950\n",
            "Epoch 90 (0.45s) -- Train Loss: 0.00039\n",
            "Val   -- Acc: 0.99984 -- Precision: 0.92727 -- Recall: 0.82258 -- F1: 0.87179\n",
            "Val   -- Acc: 0.99984 -- Precision: 0.92727 -- Recall: 0.82258 -- F1: 0.87179\n",
            "Val   -- Acc: 0.99982 -- Precision: 0.89474 -- Recall: 0.82258 -- F1: 0.85714\n",
            "Val   -- Acc: 0.99984 -- Precision: 0.92727 -- Recall: 0.82258 -- F1: 0.87179\n",
            "Val   -- Acc: 0.99984 -- Precision: 0.92727 -- Recall: 0.82258 -- F1: 0.87179\n",
            "Epoch 95 (0.47s) -- Train Loss: 0.00038\n",
            "Val   -- Acc: 0.99984 -- Precision: 0.94340 -- Recall: 0.80645 -- F1: 0.86957\n",
            "Val   -- Acc: 0.99984 -- Precision: 0.91228 -- Recall: 0.83871 -- F1: 0.87395\n",
            "Val   -- Acc: 0.99985 -- Precision: 0.92857 -- Recall: 0.83871 -- F1: 0.88136\n",
            "Val   -- Acc: 0.99983 -- Precision: 0.89655 -- Recall: 0.83871 -- F1: 0.86667\n",
            "Val   -- Acc: 0.99987 -- Precision: 0.94545 -- Recall: 0.83871 -- F1: 0.88889\n",
            "Epoch 100 (0.44s) -- Train Loss: 0.00030\n",
            "Val   -- Acc: 0.99982 -- Precision: 0.88136 -- Recall: 0.83871 -- F1: 0.85950\n",
            "Val   -- Acc: 0.99984 -- Precision: 0.91228 -- Recall: 0.83871 -- F1: 0.87395\n",
            "Val   -- Acc: 0.99982 -- Precision: 0.89474 -- Recall: 0.82258 -- F1: 0.85714\n",
            "Val   -- Acc: 0.99985 -- Precision: 0.94444 -- Recall: 0.82258 -- F1: 0.87931\n",
            "Val   -- Acc: 0.99983 -- Precision: 0.89655 -- Recall: 0.83871 -- F1: 0.86667\n",
            "Epoch 105 (0.44s) -- Train Loss: 0.00028\n",
            "Val   -- Acc: 0.99987 -- Precision: 0.96226 -- Recall: 0.82258 -- F1: 0.88696\n",
            "Val   -- Acc: 0.99982 -- Precision: 0.89474 -- Recall: 0.82258 -- F1: 0.85714\n",
            "Val   -- Acc: 0.99983 -- Precision: 0.91071 -- Recall: 0.82258 -- F1: 0.86441\n",
            "Val   -- Acc: 0.99981 -- Precision: 0.87931 -- Recall: 0.82258 -- F1: 0.85000\n",
            "Val   -- Acc: 0.99982 -- Precision: 0.89474 -- Recall: 0.82258 -- F1: 0.85714\n",
            "Epoch 110 (0.45s) -- Train Loss: 0.00034\n",
            "Val   -- Acc: 0.99983 -- Precision: 0.92593 -- Recall: 0.80645 -- F1: 0.86207\n",
            "Val   -- Acc: 0.99985 -- Precision: 0.96154 -- Recall: 0.80645 -- F1: 0.87719\n",
            "Val   -- Acc: 0.99987 -- Precision: 0.92982 -- Recall: 0.85484 -- F1: 0.89076\n",
            "Val   -- Acc: 0.99981 -- Precision: 0.87931 -- Recall: 0.82258 -- F1: 0.85000\n",
            "Val   -- Acc: 0.99985 -- Precision: 0.94444 -- Recall: 0.82258 -- F1: 0.87931\n",
            "Epoch 115 (0.44s) -- Train Loss: 0.00025\n",
            "Val   -- Acc: 0.99983 -- Precision: 0.89655 -- Recall: 0.83871 -- F1: 0.86667\n",
            "Val   -- Acc: 0.99983 -- Precision: 0.89655 -- Recall: 0.83871 -- F1: 0.86667\n",
            "Val   -- Acc: 0.99983 -- Precision: 0.89655 -- Recall: 0.83871 -- F1: 0.86667\n",
            "Val   -- Acc: 0.99984 -- Precision: 0.91228 -- Recall: 0.83871 -- F1: 0.87395\n",
            "Val   -- Acc: 0.99982 -- Precision: 0.89474 -- Recall: 0.82258 -- F1: 0.85714\n",
            "Epoch 120 (0.44s) -- Train Loss: 0.00025\n",
            "Val   -- Acc: 0.99984 -- Precision: 0.91228 -- Recall: 0.83871 -- F1: 0.87395\n",
            "Val   -- Acc: 0.99985 -- Precision: 0.94444 -- Recall: 0.82258 -- F1: 0.87931\n",
            "Val   -- Acc: 0.99982 -- Precision: 0.88136 -- Recall: 0.83871 -- F1: 0.85950\n",
            "Val   -- Acc: 0.99985 -- Precision: 0.92857 -- Recall: 0.83871 -- F1: 0.88136\n",
            "Val   -- Acc: 0.99984 -- Precision: 0.94340 -- Recall: 0.80645 -- F1: 0.86957\n",
            "Epoch 125 (0.45s) -- Train Loss: 0.00026\n",
            "Val   -- Acc: 0.99984 -- Precision: 0.89831 -- Recall: 0.85484 -- F1: 0.87603\n",
            "Val   -- Acc: 0.99981 -- Precision: 0.87931 -- Recall: 0.82258 -- F1: 0.85000\n",
            "Val   -- Acc: 0.99983 -- Precision: 0.89655 -- Recall: 0.83871 -- F1: 0.86667\n",
            "Val   -- Acc: 0.99985 -- Precision: 0.91379 -- Recall: 0.85484 -- F1: 0.88333\n",
            "Val   -- Acc: 0.99982 -- Precision: 0.88136 -- Recall: 0.83871 -- F1: 0.85950\n",
            "Epoch 130 (0.47s) -- Train Loss: 0.00026\n",
            "Val   -- Acc: 0.99985 -- Precision: 0.94444 -- Recall: 0.82258 -- F1: 0.87931\n",
            "Val   -- Acc: 0.99983 -- Precision: 0.91071 -- Recall: 0.82258 -- F1: 0.86441\n",
            "Val   -- Acc: 0.99983 -- Precision: 0.89655 -- Recall: 0.83871 -- F1: 0.86667\n",
            "Val   -- Acc: 0.99984 -- Precision: 0.92727 -- Recall: 0.82258 -- F1: 0.87179\n",
            "Val   -- Acc: 0.99982 -- Precision: 0.85714 -- Recall: 0.87097 -- F1: 0.86400\n",
            "Epoch 135 (0.44s) -- Train Loss: 0.00024\n",
            "Val   -- Acc: 0.99984 -- Precision: 0.91228 -- Recall: 0.83871 -- F1: 0.87395\n",
            "Val   -- Acc: 0.99983 -- Precision: 0.89655 -- Recall: 0.83871 -- F1: 0.86667\n",
            "Val   -- Acc: 0.99981 -- Precision: 0.87931 -- Recall: 0.82258 -- F1: 0.85000\n",
            "Val   -- Acc: 0.99982 -- Precision: 0.88136 -- Recall: 0.83871 -- F1: 0.85950\n",
            "Val   -- Acc: 0.99982 -- Precision: 0.88136 -- Recall: 0.83871 -- F1: 0.85950\n",
            "Epoch 140 (0.44s) -- Train Loss: 0.00019\n",
            "Val   -- Acc: 0.99981 -- Precision: 0.86667 -- Recall: 0.83871 -- F1: 0.85246\n",
            "Val   -- Acc: 0.99984 -- Precision: 0.91228 -- Recall: 0.83871 -- F1: 0.87395\n",
            "Val   -- Acc: 0.99982 -- Precision: 0.89474 -- Recall: 0.82258 -- F1: 0.85714\n",
            "Val   -- Acc: 0.99981 -- Precision: 0.86667 -- Recall: 0.83871 -- F1: 0.85246\n",
            "Val   -- Acc: 0.99983 -- Precision: 0.91071 -- Recall: 0.82258 -- F1: 0.86441\n",
            "Epoch 145 (0.44s) -- Train Loss: 0.00018\n",
            "Val   -- Acc: 0.99976 -- Precision: 0.78261 -- Recall: 0.87097 -- F1: 0.82443\n",
            "Val   -- Acc: 0.99984 -- Precision: 0.92727 -- Recall: 0.82258 -- F1: 0.87179\n",
            "Val   -- Acc: 0.99985 -- Precision: 0.94444 -- Recall: 0.82258 -- F1: 0.87931\n",
            "Val   -- Acc: 0.99983 -- Precision: 0.89655 -- Recall: 0.83871 -- F1: 0.86667\n",
            "Val   -- Acc: 0.99982 -- Precision: 0.89474 -- Recall: 0.82258 -- F1: 0.85714\n",
            "Epoch 150 (0.45s) -- Train Loss: 0.00014\n",
            "Val   -- Acc: 0.99984 -- Precision: 0.91228 -- Recall: 0.83871 -- F1: 0.87395\n",
            "Val   -- Acc: 0.99984 -- Precision: 0.94340 -- Recall: 0.80645 -- F1: 0.86957\n",
            "Val   -- Acc: 0.99981 -- Precision: 0.89286 -- Recall: 0.80645 -- F1: 0.84746\n",
            "Val   -- Acc: 0.99980 -- Precision: 0.86441 -- Recall: 0.82258 -- F1: 0.84298\n",
            "Val   -- Acc: 0.99984 -- Precision: 0.92727 -- Recall: 0.82258 -- F1: 0.87179\n",
            "Epoch 155 (0.45s) -- Train Loss: 0.00015\n",
            "Val   -- Acc: 0.99983 -- Precision: 0.89655 -- Recall: 0.83871 -- F1: 0.86667\n",
            "Val   -- Acc: 0.99982 -- Precision: 0.88136 -- Recall: 0.83871 -- F1: 0.85950\n",
            "Val   -- Acc: 0.99981 -- Precision: 0.86667 -- Recall: 0.83871 -- F1: 0.85246\n",
            "Val   -- Acc: 0.99981 -- Precision: 0.90741 -- Recall: 0.79032 -- F1: 0.84483\n",
            "Val   -- Acc: 0.99988 -- Precision: 0.94643 -- Recall: 0.85484 -- F1: 0.89831\n",
            "Epoch 160 (0.44s) -- Train Loss: 0.00031\n",
            "Val   -- Acc: 0.99988 -- Precision: 0.94643 -- Recall: 0.85484 -- F1: 0.89831\n",
            "Val   -- Acc: 0.99984 -- Precision: 0.91228 -- Recall: 0.83871 -- F1: 0.87395\n",
            "Val   -- Acc: 0.99983 -- Precision: 0.91071 -- Recall: 0.82258 -- F1: 0.86441\n",
            "Val   -- Acc: 0.99984 -- Precision: 0.91228 -- Recall: 0.83871 -- F1: 0.87395\n",
            "Val   -- Acc: 0.99984 -- Precision: 0.92727 -- Recall: 0.82258 -- F1: 0.87179\n",
            "Epoch 165 (0.46s) -- Train Loss: 0.00017\n",
            "Val   -- Acc: 0.99985 -- Precision: 0.91379 -- Recall: 0.85484 -- F1: 0.88333\n",
            "Val   -- Acc: 0.99983 -- Precision: 0.88333 -- Recall: 0.85484 -- F1: 0.86885\n",
            "Val   -- Acc: 0.99981 -- Precision: 0.86667 -- Recall: 0.83871 -- F1: 0.85246\n",
            "Val   -- Acc: 0.99985 -- Precision: 0.92857 -- Recall: 0.83871 -- F1: 0.88136\n",
            "Val   -- Acc: 0.99985 -- Precision: 0.92857 -- Recall: 0.83871 -- F1: 0.88136\n",
            "Epoch 170 (0.44s) -- Train Loss: 0.00013\n",
            "Val   -- Acc: 0.99985 -- Precision: 0.92857 -- Recall: 0.83871 -- F1: 0.88136\n",
            "Val   -- Acc: 0.99984 -- Precision: 0.91228 -- Recall: 0.83871 -- F1: 0.87395\n",
            "Val   -- Acc: 0.99983 -- Precision: 0.89655 -- Recall: 0.83871 -- F1: 0.86667\n",
            "Val   -- Acc: 0.99985 -- Precision: 0.92857 -- Recall: 0.83871 -- F1: 0.88136\n",
            "Val   -- Acc: 0.99984 -- Precision: 0.91228 -- Recall: 0.83871 -- F1: 0.87395\n",
            "Epoch 175 (0.44s) -- Train Loss: 0.00013\n",
            "Val   -- Acc: 0.99985 -- Precision: 0.92857 -- Recall: 0.83871 -- F1: 0.88136\n",
            "Val   -- Acc: 0.99987 -- Precision: 0.92982 -- Recall: 0.85484 -- F1: 0.89076\n",
            "Val   -- Acc: 0.99983 -- Precision: 0.91071 -- Recall: 0.82258 -- F1: 0.86441\n",
            "Val   -- Acc: 0.99985 -- Precision: 0.92857 -- Recall: 0.83871 -- F1: 0.88136\n",
            "Val   -- Acc: 0.99988 -- Precision: 0.93103 -- Recall: 0.87097 -- F1: 0.90000\n",
            "Epoch 180 (0.45s) -- Train Loss: 0.00018\n",
            "Val   -- Acc: 0.99984 -- Precision: 0.88525 -- Recall: 0.87097 -- F1: 0.87805\n",
            "Val   -- Acc: 0.99985 -- Precision: 0.92857 -- Recall: 0.83871 -- F1: 0.88136\n",
            "Val   -- Acc: 0.99985 -- Precision: 0.92857 -- Recall: 0.83871 -- F1: 0.88136\n",
            "Val   -- Acc: 0.99985 -- Precision: 0.92857 -- Recall: 0.83871 -- F1: 0.88136\n",
            "Val   -- Acc: 0.99987 -- Precision: 0.92982 -- Recall: 0.85484 -- F1: 0.89076\n",
            "Epoch 185 (0.44s) -- Train Loss: 0.00014\n",
            "Val   -- Acc: 0.99984 -- Precision: 0.91228 -- Recall: 0.83871 -- F1: 0.87395\n",
            "Val   -- Acc: 0.99987 -- Precision: 0.91525 -- Recall: 0.87097 -- F1: 0.89256\n",
            "Val   -- Acc: 0.99987 -- Precision: 0.90164 -- Recall: 0.88710 -- F1: 0.89431\n",
            "Val   -- Acc: 0.99984 -- Precision: 0.86154 -- Recall: 0.90323 -- F1: 0.88189\n",
            "Val   -- Acc: 0.99985 -- Precision: 0.90000 -- Recall: 0.87097 -- F1: 0.88525\n",
            "Epoch 190 (0.45s) -- Train Loss: 0.00016\n",
            "Val   -- Acc: 0.99983 -- Precision: 0.91071 -- Recall: 0.82258 -- F1: 0.86441\n",
            "Val   -- Acc: 0.99984 -- Precision: 0.92727 -- Recall: 0.82258 -- F1: 0.87179\n",
            "Val   -- Acc: 0.99984 -- Precision: 0.89831 -- Recall: 0.85484 -- F1: 0.87603\n",
            "Val   -- Acc: 0.99984 -- Precision: 0.94340 -- Recall: 0.80645 -- F1: 0.86957\n",
            "Val   -- Acc: 0.99987 -- Precision: 0.92982 -- Recall: 0.85484 -- F1: 0.89076\n",
            "Epoch 195 (0.45s) -- Train Loss: 0.00021\n",
            "Val   -- Acc: 0.99988 -- Precision: 0.91667 -- Recall: 0.88710 -- F1: 0.90164\n",
            "Val   -- Acc: 0.99984 -- Precision: 0.91228 -- Recall: 0.83871 -- F1: 0.87395\n",
            "Val   -- Acc: 0.99983 -- Precision: 0.91071 -- Recall: 0.82258 -- F1: 0.86441\n",
            "Val   -- Acc: 0.99987 -- Precision: 0.90164 -- Recall: 0.88710 -- F1: 0.89431\n",
            "Val   -- Acc: 0.99983 -- Precision: 0.91071 -- Recall: 0.82258 -- F1: 0.86441\n",
            "Epoch 200 (0.47s) -- Train Loss: 0.00008\n",
            "Val   -- Acc: 0.99983 -- Precision: 0.91071 -- Recall: 0.82258 -- F1: 0.86441\n",
            "Best F1 this run: 0.9016393442622951\n",
            "\n",
            "Final metrics for model <class 'models.conv_lstm.ConvLSTM'> (1 folds)\n",
            "Val   -- Acc: 0.99988 -- Precision: 0.91667 -- Recall: 0.88710 -- F1: 0.90164\n"
          ]
        }
      ]
    },
    {
      "cell_type": "markdown",
      "source": [
        "## Part - 5: Anomaly Transformer (5 second Dataset)"
      ],
      "metadata": {
        "id": "cyf6jLLyGF3e"
      }
    },
    {
      "cell_type": "markdown",
      "source": [
        "Now, lets see how are Anomaly Transformer performs on the 5 second Dataset."
      ],
      "metadata": {
        "id": "e9T_nZwbjzDB"
      }
    },
    {
      "cell_type": "markdown",
      "source": [
        "The process is exactly the same. Just the hyperparameters we set are going to change."
      ],
      "metadata": {
        "id": "Cm2vBieoj-GR"
      }
    },
    {
      "cell_type": "code",
      "source": [
        "hyperparams = {'embedding_size' : 350, 'n_layers' : 4, 'n_epochs' : 50,\n",
        "               'kernel_size' : 3, 'dropout' : 0.0, 'feature_size' : 13,\n",
        "               'lambda_' : 0.0001, 'lr' : 1e-3, 'weight_decay' : 0.0,\n",
        "               'batch_size' : 32, 'train_ratio' : 0.8,\n",
        "               'undersample_ratio' : 0.05, 'segment_length' : 15,\n",
        "               'prthreshold' : 0.48, 'kfolds' : 1, 'save' : True,\n",
        "               'validate_every_n' : 10, 'train_output_every_n' : 5,\n",
        "               'time_epochs' : True, 'final_run' : True, 'verbose' : False,\n",
        "               'seed' : 42, 'run_count' : 1, 'n_feats' : 0}"
      ],
      "metadata": {
        "id": "cH0SbsxFGVvU"
      },
      "execution_count": 33,
      "outputs": []
    },
    {
      "cell_type": "code",
      "source": [
        "config = Config(\"AnomalyTransformer\", data_path1, hyperparams)\n",
        "\n",
        "# reproducability\n",
        "\n",
        "torch.manual_seed(config.seed)\n",
        "random.seed(config.seed)\n",
        "np.random.seed(config.seed)\n",
        "g = torch.Generator()\n",
        "g.manual_seed(config.seed)\n",
        "os.environ['CUBLAS_'] = ':4096:2'"
      ],
      "metadata": {
        "id": "B0ubN7L6GVla"
      },
      "execution_count": 34,
      "outputs": []
    },
    {
      "cell_type": "code",
      "source": [
        "data = get_data(config.dataset, batch_size=config.batch_size,\n",
        "                train_ratio=config.train_ratio,\n",
        "                undersample_ratio=config.undersample_ratio,\n",
        "                segment_length=config.segment_length, save=config.save)\n",
        "\n",
        "# -1 since last column is the target value\n",
        "config.n_feats = data.shape[-1] - 1 if config.feature_size == -1 else config.feature_size"
      ],
      "metadata": {
        "colab": {
          "base_uri": "https://localhost:8080/"
        },
        "id": "JjgUU66TGVbl",
        "outputId": "2eba8eee-3731-4a6f-f984-cb268084c0c6"
      },
      "execution_count": 35,
      "outputs": [
        {
          "output_type": "stream",
          "name": "stdout",
          "text": [
            "Processing data...\n",
            "Segment length: 15\n",
            "Remove post anomaly data: False\n",
            "Data shape: (821307, 16)\n",
            "Pump 48 has 5 rows, skipping\n",
            "Pump 149 has 5 rows, skipping\n",
            "Pump 156 has 4 rows, skipping\n",
            "Pump 180 has 1 rows, skipping\n",
            "Pump 224 has 1 rows, skipping\n",
            "Pump 264 has 2 rows, skipping\n",
            "Pump 300 has 1 rows, skipping\n",
            "Pump 327 has 1 rows, skipping\n",
            "Pump 330 has 7 rows, skipping\n",
            "Pump 331 has 5 rows, skipping\n",
            "Skipped 32 rows total\n",
            "317 pumps\n",
            "821275 rows of data after processing\n"
          ]
        }
      ]
    },
    {
      "cell_type": "code",
      "source": [
        "criterion = torch.nn.BCELoss().to(device)\n",
        "\n",
        "if config.model == \"CLSTM\":\n",
        "    models = [create_conv_model] * config.run_count\n",
        "\n",
        "else:\n",
        "\n",
        "    criterion = torch.nn.MSELoss().to(device)\n",
        "    models = [create_transformer] * config.run_count\n",
        "\n",
        "for model_index, model_creator in enumerate(models):\n",
        "\n",
        "    if len(models) > 1:\n",
        "        print(f'Running model {model_index + 1} of {len(models)}')"
      ],
      "metadata": {
        "id": "M0Fo-k6HGVRS"
      },
      "execution_count": 36,
      "outputs": []
    },
    {
      "cell_type": "code",
      "source": [
        "fold_metrics = np.array([0.0]*4)\n",
        "sample_model = model_creator(config)\n",
        "\n",
        "print(f'Model {type(sample_model)} using {count_parameters(sample_model)} parameters:')\n",
        "\n",
        "model = model_creator(config)\n",
        "optimizer = torch.optim.Adam(model.parameters(), lr=config.lr,\n",
        "                              weight_decay=config.weight_decay)\n",
        "\n",
        "if config.model == \"AnomalyTransformer\":\n",
        "    criterion = model.loss_fn\n",
        "\n",
        "train_loader, test_loader = create_loaders(data,\n",
        "                                            train_ratio=config.train_ratio,\n",
        "                                            batch_size=config.batch_size,\n",
        "                                undersample_ratio=config.undersample_ratio)\n",
        "\n",
        "best_metrics = collect_metrics_n_epochs(model, train_loader=train_loader,\n",
        "                                        test_loader=test_loader,\n",
        "                                        optimizer=optimizer,\n",
        "                                        criterion=criterion, device=device,\n",
        "                                        config=config,\n",
        "                                        feature_count=config.n_feats)\n",
        "\n",
        "fold_metrics += np.array(best_metrics)\n",
        "\n",
        "print(f'Best F1 this run: {best_metrics[-1]}')\n",
        "print()\n",
        "\n",
        "acc, precision, recall, f1 = fold_metrics / config.kfolds\n",
        "\n",
        "print(f'Final metrics for model {type(sample_model)} ({config.kfolds} folds)')\n",
        "print(f'Val   -- Acc: {acc:0.5f} -- Precision: {precision:0.5f} -- Recall: {recall:0.5f} -- F1: {f1:0.5f}')"
      ],
      "metadata": {
        "colab": {
          "base_uri": "https://localhost:8080/"
        },
        "id": "U7EsRbpEGVAl",
        "outputId": "144ca7bd-2120-4202-9d1b-8148fc224b36"
      },
      "execution_count": 43,
      "outputs": [
        {
          "output_type": "stream",
          "name": "stdout",
          "text": [
            "Model <class 'models.anomaly_transformer.AnomalyTransformer'> using 3030 parameters:\n",
            "Train data shape: (657020, 15, 14)\n",
            "Train data shape after undersampling: (36215, 15, 14)\n",
            "Test data shape: (164255, 15, 14)\n",
            "60.0 segments in test data ending in anomaly\n",
            "Val   -- Acc: 0.99966 -- Precision: 1.00000 -- Recall: 0.06667 -- F1: 0.12500\n",
            "Val   -- Acc: 0.99967 -- Precision: 0.87500 -- Recall: 0.11667 -- F1: 0.20588\n",
            "Val   -- Acc: 0.99969 -- Precision: 0.90909 -- Recall: 0.16667 -- F1: 0.28169\n",
            "Val   -- Acc: 0.99970 -- Precision: 0.86667 -- Recall: 0.21667 -- F1: 0.34667\n",
            "Epoch 5 (87.11s) -- Train Loss: 0.00077\n",
            "Val   -- Acc: 0.99973 -- Precision: 0.86364 -- Recall: 0.31667 -- F1: 0.46341\n",
            "Val   -- Acc: 0.99977 -- Precision: 0.84848 -- Recall: 0.46667 -- F1: 0.60215\n",
            "Val   -- Acc: 0.99979 -- Precision: 0.83784 -- Recall: 0.51667 -- F1: 0.63918\n",
            "Val   -- Acc: 0.99980 -- Precision: 0.75472 -- Recall: 0.66667 -- F1: 0.70796\n",
            "Val   -- Acc: 0.99979 -- Precision: 0.71186 -- Recall: 0.70000 -- F1: 0.70588\n",
            "Epoch 10 (88.09s) -- Train Loss: 0.00034\n",
            "Val   -- Acc: 0.99981 -- Precision: 0.74138 -- Recall: 0.71667 -- F1: 0.72881\n",
            "Val   -- Acc: 0.99975 -- Precision: 0.62667 -- Recall: 0.78333 -- F1: 0.69630\n",
            "Val   -- Acc: 0.99972 -- Precision: 0.58750 -- Recall: 0.78333 -- F1: 0.67143\n",
            "Val   -- Acc: 0.99952 -- Precision: 0.41880 -- Recall: 0.81667 -- F1: 0.55367\n",
            "Val   -- Acc: 0.99979 -- Precision: 0.69231 -- Recall: 0.75000 -- F1: 0.72000\n",
            "Epoch 15 (88.51s) -- Train Loss: 0.00021\n",
            "Val   -- Acc: 0.99963 -- Precision: 0.50000 -- Recall: 0.86667 -- F1: 0.63415\n",
            "Val   -- Acc: 0.99976 -- Precision: 0.64000 -- Recall: 0.80000 -- F1: 0.71111\n",
            "Val   -- Acc: 0.99958 -- Precision: 0.45872 -- Recall: 0.83333 -- F1: 0.59172\n",
            "Val   -- Acc: 0.99940 -- Precision: 0.36364 -- Recall: 0.86667 -- F1: 0.51232\n",
            "Val   -- Acc: 0.99946 -- Precision: 0.39416 -- Recall: 0.90000 -- F1: 0.54822\n",
            "Epoch 20 (88.88s) -- Train Loss: 0.00015\n",
            "Val   -- Acc: 0.99969 -- Precision: 0.54737 -- Recall: 0.86667 -- F1: 0.67097\n",
            "Val   -- Acc: 0.99953 -- Precision: 0.42857 -- Recall: 0.85000 -- F1: 0.56983\n",
            "Val   -- Acc: 0.99955 -- Precision: 0.44068 -- Recall: 0.86667 -- F1: 0.58427\n",
            "Val   -- Acc: 0.99579 -- Precision: 0.07182 -- Recall: 0.88333 -- F1: 0.13283\n",
            "Val   -- Acc: 0.99492 -- Precision: 0.05916 -- Recall: 0.86667 -- F1: 0.11076\n",
            "Epoch 25 (88.61s) -- Train Loss: 0.00017\n",
            "Val   -- Acc: 0.99952 -- Precision: 0.42520 -- Recall: 0.90000 -- F1: 0.57754\n",
            "Val   -- Acc: 0.99975 -- Precision: 0.62338 -- Recall: 0.80000 -- F1: 0.70073\n",
            "Val   -- Acc: 0.99970 -- Precision: 0.56044 -- Recall: 0.85000 -- F1: 0.67550\n",
            "Val   -- Acc: 0.99883 -- Precision: 0.22034 -- Recall: 0.86667 -- F1: 0.35135\n",
            "Val   -- Acc: 0.99914 -- Precision: 0.27957 -- Recall: 0.86667 -- F1: 0.42276\n",
            "Epoch 30 (87.09s) -- Train Loss: 0.00011\n",
            "Val   -- Acc: 0.99954 -- Precision: 0.43443 -- Recall: 0.88333 -- F1: 0.58242\n",
            "Val   -- Acc: 0.99965 -- Precision: 0.50962 -- Recall: 0.88333 -- F1: 0.64634\n",
            "Val   -- Acc: 0.99969 -- Precision: 0.54737 -- Recall: 0.86667 -- F1: 0.67097\n",
            "Val   -- Acc: 0.99958 -- Precision: 0.46087 -- Recall: 0.88333 -- F1: 0.60571\n",
            "Val   -- Acc: 0.99900 -- Precision: 0.25118 -- Recall: 0.88333 -- F1: 0.39114\n",
            "Epoch 35 (86.26s) -- Train Loss: 0.00012\n",
            "Val   -- Acc: 0.99888 -- Precision: 0.23276 -- Recall: 0.90000 -- F1: 0.36986\n",
            "Val   -- Acc: 0.99220 -- Precision: 0.04060 -- Recall: 0.90000 -- F1: 0.07770\n",
            "Val   -- Acc: 0.99294 -- Precision: 0.04545 -- Recall: 0.91667 -- F1: 0.08661\n",
            "Val   -- Acc: 0.99594 -- Precision: 0.07314 -- Recall: 0.86667 -- F1: 0.13489\n",
            "Val   -- Acc: 0.99484 -- Precision: 0.06034 -- Recall: 0.90000 -- F1: 0.11309\n",
            "Epoch 40 (87.36s) -- Train Loss: 0.00009\n",
            "Val   -- Acc: 0.99938 -- Precision: 0.36184 -- Recall: 0.91667 -- F1: 0.51887\n",
            "Val   -- Acc: 0.99895 -- Precision: 0.24074 -- Recall: 0.86667 -- F1: 0.37681\n",
            "Val   -- Acc: 0.99962 -- Precision: 0.48571 -- Recall: 0.85000 -- F1: 0.61818\n",
            "Val   -- Acc: 0.99953 -- Precision: 0.42623 -- Recall: 0.86667 -- F1: 0.57143\n",
            "Val   -- Acc: 0.99928 -- Precision: 0.32121 -- Recall: 0.88333 -- F1: 0.47111\n",
            "Epoch 45 (86.21s) -- Train Loss: 0.00008\n",
            "Val   -- Acc: 0.99937 -- Precision: 0.35135 -- Recall: 0.86667 -- F1: 0.50000\n",
            "Val   -- Acc: 0.99931 -- Precision: 0.33121 -- Recall: 0.86667 -- F1: 0.47926\n",
            "Val   -- Acc: 0.99866 -- Precision: 0.20149 -- Recall: 0.90000 -- F1: 0.32927\n",
            "Val   -- Acc: 0.98360 -- Precision: 0.01969 -- Recall: 0.90000 -- F1: 0.03854\n",
            "Val   -- Acc: 0.99828 -- Precision: 0.15951 -- Recall: 0.86667 -- F1: 0.26943\n",
            "Epoch 50 (86.04s) -- Train Loss: 0.00007\n",
            "Val   -- Acc: 0.99408 -- Precision: 0.05294 -- Recall: 0.90000 -- F1: 0.10000\n",
            "Best F1 this run: 0.728813559322034\n",
            "\n",
            "Final metrics for model <class 'models.anomaly_transformer.AnomalyTransformer'> (1 folds)\n",
            "Val   -- Acc: 0.99981 -- Precision: 0.74138 -- Recall: 0.71667 -- F1: 0.72881\n"
          ]
        }
      ]
    },
    {
      "cell_type": "markdown",
      "source": [
        "## Part - 6: Anomaly Transformer (15 second Dataset)"
      ],
      "metadata": {
        "id": "YRjfGaY5I11D"
      }
    },
    {
      "cell_type": "code",
      "execution_count": 40,
      "metadata": {
        "id": "JKV_bsvdLjQ-"
      },
      "outputs": [],
      "source": [
        "config = Config(\"AnomalyTransformer\", data_path2, hyperparams)\n",
        "\n",
        "# reproducability\n",
        "\n",
        "torch.manual_seed(config.seed)\n",
        "random.seed(config.seed)\n",
        "np.random.seed(config.seed)\n",
        "g = torch.Generator()\n",
        "g.manual_seed(config.seed)\n",
        "os.environ['UJJWALS_WORKSPACE_CONFIG'] = ':4096:2'"
      ]
    },
    {
      "cell_type": "code",
      "source": [
        "data = get_data(config.dataset, batch_size=config.batch_size,\n",
        "                train_ratio=config.train_ratio,\n",
        "                undersample_ratio=config.undersample_ratio,\n",
        "                segment_length=config.segment_length, save=config.save)\n",
        "\n",
        "# -1 since last column is the target value\n",
        "config.n_feats = data.shape[-1] - 1 if config.feature_size == -1 else config.feature_size"
      ],
      "metadata": {
        "colab": {
          "base_uri": "https://localhost:8080/"
        },
        "id": "kByEDpzs8UnF",
        "outputId": "ef5b4d3e-0e87-4d59-f601-0a3798ee4470"
      },
      "execution_count": 41,
      "outputs": [
        {
          "output_type": "stream",
          "name": "stdout",
          "text": [
            "Processing data...\n",
            "Segment length: 15\n",
            "Remove post anomaly data: False\n",
            "Data shape: (584104, 16)\n",
            "Pump 48 has 3 rows, skipping\n",
            "Pump 149 has 3 rows, skipping\n",
            "Pump 156 has 3 rows, skipping\n",
            "Pump 180 has 1 rows, skipping\n",
            "Pump 224 has 1 rows, skipping\n",
            "Pump 264 has 2 rows, skipping\n",
            "Pump 299 has 1 rows, skipping\n",
            "Pump 300 has 1 rows, skipping\n",
            "Pump 330 has 4 rows, skipping\n",
            "Pump 331 has 4 rows, skipping\n",
            "Skipped 23 rows total\n",
            "317 pumps\n",
            "584081 rows of data after processing\n"
          ]
        }
      ]
    },
    {
      "cell_type": "code",
      "source": [
        "criterion = torch.nn.BCELoss().to(device)\n",
        "\n",
        "if config.model == \"CLSTM\":\n",
        "    models = [create_conv_model] * config.run_count\n",
        "\n",
        "else:\n",
        "\n",
        "    criterion = torch.nn.MSELoss().to(device)\n",
        "    models = [create_transformer] * config.run_count\n",
        "\n",
        "for model_index, model_creator in enumerate(models):\n",
        "\n",
        "    if len(models) > 1:\n",
        "        print(f'Running model {model_index + 1} of {len(models)}')"
      ],
      "metadata": {
        "id": "Q_-xindu8Us6"
      },
      "execution_count": 42,
      "outputs": []
    },
    {
      "cell_type": "code",
      "source": [
        "fold_metrics = np.array([0.0]*4)\n",
        "sample_model = model_creator(config)\n",
        "\n",
        "print(f'Model {type(sample_model)} using {count_parameters(sample_model)} parameters:')\n",
        "\n",
        "model = model_creator(config)\n",
        "optimizer = torch.optim.Adam(model.parameters(), lr=config.lr,\n",
        "                              weight_decay=config.weight_decay)\n",
        "\n",
        "if config.model == \"AnomalyTransformer\":\n",
        "    criterion = model.loss_fn\n",
        "\n",
        "train_loader, test_loader = create_loaders(data,\n",
        "                                            train_ratio=config.train_ratio,\n",
        "                                            batch_size=config.batch_size,\n",
        "                                undersample_ratio=config.undersample_ratio)\n",
        "\n",
        "best_metrics = collect_metrics_n_epochs(model, train_loader=train_loader,\n",
        "                                        test_loader=test_loader,\n",
        "                                        optimizer=optimizer,\n",
        "                                        criterion=criterion, device=device,\n",
        "                                        config=config,\n",
        "                                        feature_count=config.n_feats)\n",
        "\n",
        "fold_metrics += np.array(best_metrics)\n",
        "\n",
        "print(f'Best F1 this run: {best_metrics[-1]}')\n",
        "print()\n",
        "\n",
        "acc, precision, recall, f1 = fold_metrics / config.kfolds\n",
        "\n",
        "print(f'Final metrics for model {type(sample_model)} ({config.kfolds} folds)')\n",
        "print(f'Val   -- Acc: {acc:0.5f} -- Precision: {precision:0.5f} -- Recall: {recall:0.5f} -- F1: {f1:0.5f}')"
      ],
      "metadata": {
        "colab": {
          "base_uri": "https://localhost:8080/"
        },
        "id": "ln5zJEAP8Uzv",
        "outputId": "b1bfaba4-d885-4c4e-a5a1-64f3eea4934f"
      },
      "execution_count": 43,
      "outputs": [
        {
          "output_type": "stream",
          "name": "stdout",
          "text": [
            "Model <class 'models.anomaly_transformer.AnomalyTransformer'> using 3030 parameters:\n",
            "Train data shape: (467264, 15, 14)\n",
            "Train data shape after undersampling: (26837, 15, 14)\n",
            "Test data shape: (116817, 15, 14)\n",
            "61.0 segments in test data ending in anomaly\n",
            "Val   -- Acc: 0.99953 -- Precision: 1.00000 -- Recall: 0.09836 -- F1: 0.17910\n",
            "Val   -- Acc: 0.99961 -- Precision: 1.00000 -- Recall: 0.24590 -- F1: 0.39474\n",
            "Val   -- Acc: 0.99963 -- Precision: 0.95000 -- Recall: 0.31148 -- F1: 0.46914\n",
            "Val   -- Acc: 0.99967 -- Precision: 0.95833 -- Recall: 0.37705 -- F1: 0.54118\n",
            "Epoch 5 (63.54s) -- Train Loss: 0.00089\n",
            "Val   -- Acc: 0.99972 -- Precision: 0.96667 -- Recall: 0.47541 -- F1: 0.63736\n",
            "Val   -- Acc: 0.99964 -- Precision: 0.91304 -- Recall: 0.34426 -- F1: 0.50000\n",
            "Val   -- Acc: 0.99967 -- Precision: 0.92308 -- Recall: 0.39344 -- F1: 0.55172\n",
            "Val   -- Acc: 0.99961 -- Precision: 0.94444 -- Recall: 0.27869 -- F1: 0.43038\n",
            "Val   -- Acc: 0.99963 -- Precision: 0.95000 -- Recall: 0.31148 -- F1: 0.46914\n",
            "Epoch 10 (62.90s) -- Train Loss: 0.00042\n",
            "Val   -- Acc: 0.99962 -- Precision: 0.94737 -- Recall: 0.29508 -- F1: 0.45000\n",
            "Val   -- Acc: 0.99961 -- Precision: 0.94118 -- Recall: 0.26230 -- F1: 0.41026\n",
            "Val   -- Acc: 0.99963 -- Precision: 0.95000 -- Recall: 0.31148 -- F1: 0.46914\n",
            "Val   -- Acc: 0.99958 -- Precision: 0.92857 -- Recall: 0.21311 -- F1: 0.34667\n",
            "Val   -- Acc: 0.99967 -- Precision: 0.92593 -- Recall: 0.40984 -- F1: 0.56818\n",
            "Epoch 15 (62.90s) -- Train Loss: 0.00033\n",
            "Val   -- Acc: 0.99972 -- Precision: 0.93750 -- Recall: 0.49180 -- F1: 0.64516\n",
            "Val   -- Acc: 0.99967 -- Precision: 0.92308 -- Recall: 0.39344 -- F1: 0.55172\n",
            "Val   -- Acc: 0.99967 -- Precision: 0.92593 -- Recall: 0.40984 -- F1: 0.56818\n",
            "Val   -- Acc: 0.99973 -- Precision: 0.85714 -- Recall: 0.59016 -- F1: 0.69903\n",
            "Val   -- Acc: 0.99973 -- Precision: 0.85366 -- Recall: 0.57377 -- F1: 0.68627\n",
            "Epoch 20 (63.30s) -- Train Loss: 0.00027\n",
            "Val   -- Acc: 0.99972 -- Precision: 0.80435 -- Recall: 0.60656 -- F1: 0.69159\n",
            "Val   -- Acc: 0.99974 -- Precision: 0.81633 -- Recall: 0.65574 -- F1: 0.72727\n",
            "Val   -- Acc: 0.99973 -- Precision: 0.71642 -- Recall: 0.78689 -- F1: 0.75000\n",
            "Val   -- Acc: 0.99974 -- Precision: 0.76271 -- Recall: 0.73770 -- F1: 0.75000\n",
            "Val   -- Acc: 0.99282 -- Precision: 0.05492 -- Recall: 0.78689 -- F1: 0.10267\n",
            "Epoch 25 (63.47s) -- Train Loss: 0.00021\n",
            "Val   -- Acc: 0.98618 -- Precision: 0.02157 -- Recall: 0.57377 -- F1: 0.04157\n",
            "Val   -- Acc: 0.99979 -- Precision: 0.84906 -- Recall: 0.73770 -- F1: 0.78947\n",
            "Val   -- Acc: 0.99906 -- Precision: 0.33103 -- Recall: 0.78689 -- F1: 0.46602\n",
            "Val   -- Acc: 0.99969 -- Precision: 0.65432 -- Recall: 0.86885 -- F1: 0.74648\n",
            "Val   -- Acc: 0.99966 -- Precision: 0.62651 -- Recall: 0.85246 -- F1: 0.72222\n",
            "Epoch 30 (64.39s) -- Train Loss: 0.00019\n",
            "Val   -- Acc: 0.99905 -- Precision: 0.33553 -- Recall: 0.83607 -- F1: 0.47887\n",
            "Val   -- Acc: 0.99801 -- Precision: 0.18841 -- Recall: 0.85246 -- F1: 0.30861\n",
            "Val   -- Acc: 0.99085 -- Precision: 0.04758 -- Recall: 0.86885 -- F1: 0.09021\n",
            "Val   -- Acc: 0.99949 -- Precision: 0.51316 -- Recall: 0.63934 -- F1: 0.56934\n",
            "Val   -- Acc: 0.99170 -- Precision: 0.05133 -- Recall: 0.85246 -- F1: 0.09683\n",
            "Epoch 35 (63.26s) -- Train Loss: 0.00012\n",
            "Val   -- Acc: 0.99834 -- Precision: 0.21212 -- Recall: 0.80328 -- F1: 0.33562\n",
            "Val   -- Acc: 0.99546 -- Precision: 0.09217 -- Recall: 0.86885 -- F1: 0.16667\n",
            "Val   -- Acc: 0.99750 -- Precision: 0.15727 -- Recall: 0.86885 -- F1: 0.26633\n",
            "Val   -- Acc: 0.99412 -- Precision: 0.07588 -- Recall: 0.91803 -- F1: 0.14018\n",
            "Val   -- Acc: 0.99526 -- Precision: 0.08985 -- Recall: 0.88525 -- F1: 0.16314\n",
            "Epoch 40 (63.35s) -- Train Loss: 0.00013\n",
            "Val   -- Acc: 0.99771 -- Precision: 0.17197 -- Recall: 0.88525 -- F1: 0.28800\n",
            "Val   -- Acc: 0.99583 -- Precision: 0.09962 -- Recall: 0.86885 -- F1: 0.17875\n",
            "Val   -- Acc: 0.99836 -- Precision: 0.22458 -- Recall: 0.86885 -- F1: 0.35690\n",
            "Val   -- Acc: 0.99910 -- Precision: 0.35714 -- Recall: 0.90164 -- F1: 0.51163\n",
            "Val   -- Acc: 0.99812 -- Precision: 0.20446 -- Recall: 0.90164 -- F1: 0.33333\n",
            "Epoch 45 (63.24s) -- Train Loss: 0.00007\n",
            "Val   -- Acc: 0.99905 -- Precision: 0.33766 -- Recall: 0.85246 -- F1: 0.48372\n",
            "Val   -- Acc: 0.99936 -- Precision: 0.44262 -- Recall: 0.88525 -- F1: 0.59016\n",
            "Val   -- Acc: 0.99960 -- Precision: 0.57778 -- Recall: 0.85246 -- F1: 0.68874\n",
            "Val   -- Acc: 0.99965 -- Precision: 0.61628 -- Recall: 0.86885 -- F1: 0.72109\n",
            "Val   -- Acc: 0.99543 -- Precision: 0.09573 -- Recall: 0.91803 -- F1: 0.17337\n",
            "Epoch 50 (63.14s) -- Train Loss: 0.00011\n",
            "Val   -- Acc: 0.99829 -- Precision: 0.21633 -- Recall: 0.86885 -- F1: 0.34641\n",
            "Best F1 this run: 0.7894736842105263\n",
            "\n",
            "Final metrics for model <class 'models.anomaly_transformer.AnomalyTransformer'> (1 folds)\n",
            "Val   -- Acc: 0.99979 -- Precision: 0.84906 -- Recall: 0.73770 -- F1: 0.78947\n"
          ]
        }
      ]
    },
    {
      "cell_type": "markdown",
      "source": [
        "## Part - 7: Anomaly Transformer (25 second Dataset)"
      ],
      "metadata": {
        "id": "aCqVywx9JCXR"
      }
    },
    {
      "cell_type": "code",
      "source": [
        "config = Config(\"AnomalyTransformer\", data_path3, hyperparams)\n",
        "\n",
        "# reproducability\n",
        "\n",
        "torch.manual_seed(config.seed)\n",
        "random.seed(config.seed)\n",
        "np.random.seed(config.seed)\n",
        "g = torch.Generator()\n",
        "g.manual_seed(config.seed)\n",
        "os.environ['UJJWALS_WORKSPACE_CONFIG'] = ':4096:2'"
      ],
      "metadata": {
        "id": "aQOsXykR8U6W"
      },
      "execution_count": 44,
      "outputs": []
    },
    {
      "cell_type": "code",
      "source": [
        "data = get_data(config.dataset, batch_size=config.batch_size,\n",
        "                train_ratio=config.train_ratio,\n",
        "                undersample_ratio=config.undersample_ratio,\n",
        "                segment_length=config.segment_length, save=config.save)\n",
        "\n",
        "# -1 since last column is the target value\n",
        "config.n_feats = data.shape[-1] - 1 if config.feature_size == -1 else config.feature_size"
      ],
      "metadata": {
        "colab": {
          "base_uri": "https://localhost:8080/"
        },
        "id": "DyZtdjpJIwup",
        "outputId": "aaf0e4cf-e07d-4b2f-b623-1fa16dcb982b"
      },
      "execution_count": 45,
      "outputs": [
        {
          "output_type": "stream",
          "name": "stdout",
          "text": [
            "Processing data...\n",
            "Segment length: 15\n",
            "Remove post anomaly data: False\n",
            "Data shape: (482157, 16)\n",
            "Pump 48 has 3 rows, skipping\n",
            "Pump 149 has 2 rows, skipping\n",
            "Pump 156 has 3 rows, skipping\n",
            "Pump 180 has 1 rows, skipping\n",
            "Pump 224 has 1 rows, skipping\n",
            "Pump 264 has 2 rows, skipping\n",
            "Pump 299 has 1 rows, skipping\n",
            "Pump 300 has 1 rows, skipping\n",
            "Pump 330 has 3 rows, skipping\n",
            "Pump 331 has 3 rows, skipping\n",
            "Skipped 20 rows total\n",
            "317 pumps\n",
            "482137 rows of data after processing\n"
          ]
        }
      ]
    },
    {
      "cell_type": "code",
      "source": [
        "criterion = torch.nn.BCELoss().to(device)\n",
        "\n",
        "if config.model == \"CLSTM\":\n",
        "    models = [create_conv_model] * config.run_count\n",
        "\n",
        "else:\n",
        "\n",
        "    criterion = torch.nn.MSELoss().to(device)\n",
        "    models = [create_transformer] * config.run_count\n",
        "\n",
        "for model_index, model_creator in enumerate(models):\n",
        "\n",
        "    if len(models) > 1:\n",
        "        print(f'Running model {model_index + 1} of {len(models)}')"
      ],
      "metadata": {
        "id": "Y8MYu14WIw0-"
      },
      "execution_count": 46,
      "outputs": []
    },
    {
      "cell_type": "code",
      "source": [
        "fold_metrics = np.array([0.0]*4)\n",
        "sample_model = model_creator(config)\n",
        "\n",
        "print(f'Model {type(sample_model)} using {count_parameters(sample_model)} parameters:')\n",
        "\n",
        "model = model_creator(config)\n",
        "optimizer = torch.optim.Adam(model.parameters(), lr=config.lr,\n",
        "                              weight_decay=config.weight_decay)\n",
        "\n",
        "if config.model == \"AnomalyTransformer\":\n",
        "    criterion = model.loss_fn\n",
        "\n",
        "train_loader, test_loader = create_loaders(data,\n",
        "                                            train_ratio=config.train_ratio,\n",
        "                                            batch_size=config.batch_size,\n",
        "                                undersample_ratio=config.undersample_ratio)\n",
        "\n",
        "best_metrics = collect_metrics_n_epochs(model, train_loader=train_loader,\n",
        "                                        test_loader=test_loader,\n",
        "                                        optimizer=optimizer,\n",
        "                                        criterion=criterion, device=device,\n",
        "                                        config=config,\n",
        "                                        feature_count=config.n_feats)\n",
        "\n",
        "fold_metrics += np.array(best_metrics)\n",
        "\n",
        "print(f'Best F1 this run: {best_metrics[-1]}')\n",
        "print()\n",
        "\n",
        "acc, precision, recall, f1 = fold_metrics / config.kfolds\n",
        "\n",
        "print(f'Final metrics for model {type(sample_model)} ({config.kfolds} folds)')\n",
        "print(f'Val   -- Acc: {acc:0.5f} -- Precision: {precision:0.5f} -- Recall: {recall:0.5f} -- F1: {f1:0.5f}')"
      ],
      "metadata": {
        "colab": {
          "base_uri": "https://localhost:8080/"
        },
        "id": "NsOxfRAJI5H9",
        "outputId": "887f284b-7cd2-4fd8-abd9-5c4d22384164"
      },
      "execution_count": 47,
      "outputs": [
        {
          "output_type": "stream",
          "name": "stdout",
          "text": [
            "Model <class 'models.anomaly_transformer.AnomalyTransformer'> using 3030 parameters:\n",
            "Train data shape: (385709, 15, 14)\n",
            "Train data shape after undersampling: (22743, 15, 14)\n",
            "Test data shape: (96428, 15, 14)\n",
            "62.0 segments in test data ending in anomaly\n",
            "Val   -- Acc: 0.99938 -- Precision: 1.00000 -- Recall: 0.03226 -- F1: 0.06250\n",
            "Val   -- Acc: 0.99942 -- Precision: 1.00000 -- Recall: 0.09677 -- F1: 0.17647\n",
            "Val   -- Acc: 0.99942 -- Precision: 1.00000 -- Recall: 0.09677 -- F1: 0.17647\n",
            "Val   -- Acc: 0.99941 -- Precision: 1.00000 -- Recall: 0.08065 -- F1: 0.14925\n",
            "Epoch 5 (54.42s) -- Train Loss: 0.00056\n",
            "Val   -- Acc: 0.99942 -- Precision: 1.00000 -- Recall: 0.09677 -- F1: 0.17647\n",
            "Val   -- Acc: 0.99948 -- Precision: 1.00000 -- Recall: 0.19355 -- F1: 0.32432\n",
            "Val   -- Acc: 0.99957 -- Precision: 1.00000 -- Recall: 0.33871 -- F1: 0.50602\n",
            "Val   -- Acc: 0.99964 -- Precision: 1.00000 -- Recall: 0.43548 -- F1: 0.60674\n",
            "Val   -- Acc: 0.99961 -- Precision: 1.00000 -- Recall: 0.38710 -- F1: 0.55814\n",
            "Epoch 10 (53.77s) -- Train Loss: 0.00026\n",
            "Val   -- Acc: 0.99971 -- Precision: 1.00000 -- Recall: 0.54839 -- F1: 0.70833\n",
            "Val   -- Acc: 0.99974 -- Precision: 1.00000 -- Recall: 0.59677 -- F1: 0.74747\n",
            "Val   -- Acc: 0.99978 -- Precision: 1.00000 -- Recall: 0.66129 -- F1: 0.79612\n",
            "Val   -- Acc: 0.99976 -- Precision: 1.00000 -- Recall: 0.62903 -- F1: 0.77228\n",
            "Val   -- Acc: 0.99979 -- Precision: 1.00000 -- Recall: 0.67742 -- F1: 0.80769\n",
            "Epoch 15 (53.84s) -- Train Loss: 0.00019\n",
            "Val   -- Acc: 0.99977 -- Precision: 1.00000 -- Recall: 0.64516 -- F1: 0.78431\n",
            "Val   -- Acc: 0.99977 -- Precision: 1.00000 -- Recall: 0.64516 -- F1: 0.78431\n",
            "Val   -- Acc: 0.99977 -- Precision: 1.00000 -- Recall: 0.64516 -- F1: 0.78431\n",
            "Val   -- Acc: 0.99979 -- Precision: 1.00000 -- Recall: 0.67742 -- F1: 0.80769\n",
            "Val   -- Acc: 0.99979 -- Precision: 1.00000 -- Recall: 0.67742 -- F1: 0.80769\n",
            "Epoch 20 (54.23s) -- Train Loss: 0.00010\n",
            "Val   -- Acc: 0.99980 -- Precision: 1.00000 -- Recall: 0.69355 -- F1: 0.81905\n",
            "Val   -- Acc: 0.99979 -- Precision: 1.00000 -- Recall: 0.67742 -- F1: 0.80769\n",
            "Val   -- Acc: 0.99980 -- Precision: 1.00000 -- Recall: 0.69355 -- F1: 0.81905\n",
            "Val   -- Acc: 0.99980 -- Precision: 1.00000 -- Recall: 0.69355 -- F1: 0.81905\n",
            "Val   -- Acc: 0.99980 -- Precision: 1.00000 -- Recall: 0.69355 -- F1: 0.81905\n",
            "Epoch 25 (54.23s) -- Train Loss: 0.00015\n",
            "Val   -- Acc: 0.99981 -- Precision: 0.97826 -- Recall: 0.72581 -- F1: 0.83333\n",
            "Val   -- Acc: 0.99979 -- Precision: 1.00000 -- Recall: 0.67742 -- F1: 0.80769\n",
            "Val   -- Acc: 0.99979 -- Precision: 0.97727 -- Recall: 0.69355 -- F1: 0.81132\n",
            "Val   -- Acc: 0.99981 -- Precision: 1.00000 -- Recall: 0.70968 -- F1: 0.83019\n",
            "Val   -- Acc: 0.99981 -- Precision: 1.00000 -- Recall: 0.70968 -- F1: 0.83019\n",
            "Epoch 30 (53.61s) -- Train Loss: 0.00009\n",
            "Val   -- Acc: 0.99980 -- Precision: 1.00000 -- Recall: 0.69355 -- F1: 0.81905\n",
            "Val   -- Acc: 0.99981 -- Precision: 1.00000 -- Recall: 0.70968 -- F1: 0.83019\n",
            "Val   -- Acc: 0.99978 -- Precision: 0.93617 -- Recall: 0.70968 -- F1: 0.80734\n",
            "Val   -- Acc: 0.99980 -- Precision: 0.93878 -- Recall: 0.74194 -- F1: 0.82883\n",
            "Val   -- Acc: 0.99982 -- Precision: 1.00000 -- Recall: 0.72581 -- F1: 0.84112\n",
            "Epoch 35 (53.64s) -- Train Loss: 0.00009\n",
            "Val   -- Acc: 0.99982 -- Precision: 1.00000 -- Recall: 0.72581 -- F1: 0.84112\n",
            "Val   -- Acc: 0.99981 -- Precision: 0.97826 -- Recall: 0.72581 -- F1: 0.83333\n",
            "Val   -- Acc: 0.99981 -- Precision: 0.97826 -- Recall: 0.72581 -- F1: 0.83333\n",
            "Val   -- Acc: 0.99981 -- Precision: 0.97826 -- Recall: 0.72581 -- F1: 0.83333\n",
            "Val   -- Acc: 0.99981 -- Precision: 0.97826 -- Recall: 0.72581 -- F1: 0.83333\n",
            "Epoch 40 (53.55s) -- Train Loss: 0.00009\n",
            "Val   -- Acc: 0.99982 -- Precision: 0.95918 -- Recall: 0.75806 -- F1: 0.84685\n",
            "Val   -- Acc: 0.99984 -- Precision: 0.96078 -- Recall: 0.79032 -- F1: 0.86726\n",
            "Val   -- Acc: 0.99982 -- Precision: 0.97872 -- Recall: 0.74194 -- F1: 0.84404\n",
            "Val   -- Acc: 0.99980 -- Precision: 0.95745 -- Recall: 0.72581 -- F1: 0.82569\n",
            "Val   -- Acc: 0.99982 -- Precision: 0.95918 -- Recall: 0.75806 -- F1: 0.84685\n",
            "Epoch 45 (53.60s) -- Train Loss: 0.00007\n",
            "Val   -- Acc: 0.99982 -- Precision: 0.94118 -- Recall: 0.77419 -- F1: 0.84956\n",
            "Val   -- Acc: 0.99980 -- Precision: 0.93878 -- Recall: 0.74194 -- F1: 0.82883\n",
            "Val   -- Acc: 0.99980 -- Precision: 0.93878 -- Recall: 0.74194 -- F1: 0.82883\n",
            "Val   -- Acc: 0.99982 -- Precision: 0.94118 -- Recall: 0.77419 -- F1: 0.84956\n",
            "Val   -- Acc: 0.99983 -- Precision: 0.91071 -- Recall: 0.82258 -- F1: 0.86441\n",
            "Epoch 50 (53.65s) -- Train Loss: 0.00007\n",
            "Val   -- Acc: 0.99981 -- Precision: 0.90741 -- Recall: 0.79032 -- F1: 0.84483\n",
            "Best F1 this run: 0.8672566371681416\n",
            "\n",
            "Final metrics for model <class 'models.anomaly_transformer.AnomalyTransformer'> (1 folds)\n",
            "Val   -- Acc: 0.99984 -- Precision: 0.96078 -- Recall: 0.79032 -- F1: 0.86726\n"
          ]
        }
      ]
    }
  ],
  "metadata": {
    "colab": {
      "provenance": [],
      "collapsed_sections": [
        "Fo8nEr9rBl_0",
        "-YTnf6M2FD-T",
        "YRjfGaY5I11D",
        "aCqVywx9JCXR"
      ],
      "machine_shape": "hm"
    },
    "kernelspec": {
      "display_name": "Python 3",
      "name": "python3"
    },
    "language_info": {
      "name": "python"
    }
  },
  "nbformat": 4,
  "nbformat_minor": 0
}